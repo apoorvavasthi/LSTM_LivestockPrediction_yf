{
  "cells": [
    {
      "cell_type": "code",
      "execution_count": 1,
      "metadata": {
        "id": "JmrUZATmE_CT",
        "colab": {
          "base_uri": "https://localhost:8080/"
        },
        "outputId": "8b9d81d7-e0d9-45fb-efad-a1f33d21e8d9"
      },
      "outputs": [
        {
          "output_type": "stream",
          "name": "stdout",
          "text": [
            "Requirement already satisfied: yfinance in /usr/local/lib/python3.10/dist-packages (0.2.25)\n",
            "Requirement already satisfied: pandas>=1.3.0 in /usr/local/lib/python3.10/dist-packages (from yfinance) (1.5.3)\n",
            "Requirement already satisfied: numpy>=1.16.5 in /usr/local/lib/python3.10/dist-packages (from yfinance) (1.22.4)\n",
            "Requirement already satisfied: requests>=2.26 in /usr/local/lib/python3.10/dist-packages (from yfinance) (2.27.1)\n",
            "Requirement already satisfied: multitasking>=0.0.7 in /usr/local/lib/python3.10/dist-packages (from yfinance) (0.0.11)\n",
            "Requirement already satisfied: lxml>=4.9.1 in /usr/local/lib/python3.10/dist-packages (from yfinance) (4.9.3)\n",
            "Requirement already satisfied: appdirs>=1.4.4 in /usr/local/lib/python3.10/dist-packages (from yfinance) (1.4.4)\n",
            "Requirement already satisfied: pytz>=2022.5 in /usr/local/lib/python3.10/dist-packages (from yfinance) (2022.7.1)\n",
            "Requirement already satisfied: frozendict>=2.3.4 in /usr/local/lib/python3.10/dist-packages (from yfinance) (2.3.8)\n",
            "Requirement already satisfied: beautifulsoup4>=4.11.1 in /usr/local/lib/python3.10/dist-packages (from yfinance) (4.11.2)\n",
            "Requirement already satisfied: html5lib>=1.1 in /usr/local/lib/python3.10/dist-packages (from yfinance) (1.1)\n",
            "Requirement already satisfied: soupsieve>1.2 in /usr/local/lib/python3.10/dist-packages (from beautifulsoup4>=4.11.1->yfinance) (2.4.1)\n",
            "Requirement already satisfied: six>=1.9 in /usr/local/lib/python3.10/dist-packages (from html5lib>=1.1->yfinance) (1.16.0)\n",
            "Requirement already satisfied: webencodings in /usr/local/lib/python3.10/dist-packages (from html5lib>=1.1->yfinance) (0.5.1)\n",
            "Requirement already satisfied: python-dateutil>=2.8.1 in /usr/local/lib/python3.10/dist-packages (from pandas>=1.3.0->yfinance) (2.8.2)\n",
            "Requirement already satisfied: urllib3<1.27,>=1.21.1 in /usr/local/lib/python3.10/dist-packages (from requests>=2.26->yfinance) (1.26.16)\n",
            "Requirement already satisfied: certifi>=2017.4.17 in /usr/local/lib/python3.10/dist-packages (from requests>=2.26->yfinance) (2023.7.22)\n",
            "Requirement already satisfied: charset-normalizer~=2.0.0 in /usr/local/lib/python3.10/dist-packages (from requests>=2.26->yfinance) (2.0.12)\n",
            "Requirement already satisfied: idna<4,>=2.5 in /usr/local/lib/python3.10/dist-packages (from requests>=2.26->yfinance) (3.4)\n"
          ]
        }
      ],
      "source": [
        "# yfinance Python library\n",
        "!pip install yfinance"
      ]
    },
    {
      "cell_type": "code",
      "execution_count": 2,
      "metadata": {
        "id": "qgApaavowYza"
      },
      "outputs": [],
      "source": [
        "import yfinance as yf\n",
        "reli= yf.Ticker(\"RELIANCE.NS\")\n",
        "relc= reli.history(period=\"60mo\")"
      ]
    },
    {
      "cell_type": "code",
      "execution_count": 3,
      "metadata": {
        "id": "OuOrcOAXxRb0",
        "colab": {
          "base_uri": "https://localhost:8080/",
          "height": 455
        },
        "outputId": "a6b65e4d-99b4-4174-f3e4-1ea881839c5a"
      },
      "outputs": [
        {
          "output_type": "execute_result",
          "data": {
            "text/plain": [
              "                                  Open         High          Low        Close  \\\n",
              "Date                                                                            \n",
              "2018-07-27 00:00:00+05:30  1091.943831  1109.403241  1084.774727  1102.039062   \n",
              "2018-07-30 00:00:00+05:30  1102.185427  1128.813495  1100.234675  1123.058716   \n",
              "2018-07-31 00:00:00+05:30  1122.668604  1161.098784  1118.913376  1156.807129   \n",
              "2018-08-01 00:00:00+05:30  1161.098901  1173.291164  1156.221900  1163.000854   \n",
              "2018-08-02 00:00:00+05:30  1162.171597  1162.171597  1137.250528  1139.591431   \n",
              "...                                ...          ...          ...          ...   \n",
              "2023-07-21 00:00:00+05:30  2609.000000  2614.899902  2523.600098  2538.750000   \n",
              "2023-07-24 00:00:00+05:30  2481.000000  2514.949951  2469.300049  2487.399902   \n",
              "2023-07-25 00:00:00+05:30  2494.000000  2505.199951  2480.000000  2485.800049   \n",
              "2023-07-26 00:00:00+05:30  2485.000000  2547.000000  2485.000000  2526.199951   \n",
              "2023-07-27 00:00:00+05:30  2534.050049  2537.649902  2490.350098  2502.699951   \n",
              "\n",
              "                             Volume  Dividends  Stock Splits  \n",
              "Date                                                          \n",
              "2018-07-27 00:00:00+05:30   6742782        0.0           0.0  \n",
              "2018-07-30 00:00:00+05:30  14003964        0.0           0.0  \n",
              "2018-07-31 00:00:00+05:30  14006901        0.0           0.0  \n",
              "2018-08-01 00:00:00+05:30   9796282        0.0           0.0  \n",
              "2018-08-02 00:00:00+05:30   6308209        0.0           0.0  \n",
              "...                             ...        ...           ...  \n",
              "2023-07-21 00:00:00+05:30  15124619        0.0           0.0  \n",
              "2023-07-24 00:00:00+05:30  11863933        0.0           0.0  \n",
              "2023-07-25 00:00:00+05:30   6013010        0.0           0.0  \n",
              "2023-07-26 00:00:00+05:30   6455506        0.0           0.0  \n",
              "2023-07-27 00:00:00+05:30   8612030        0.0           0.0  \n",
              "\n",
              "[1234 rows x 7 columns]"
            ],
            "text/html": [
              "\n",
              "\n",
              "  <div id=\"df-d5a97f24-d89c-4012-8ae8-6de93b6ed724\">\n",
              "    <div class=\"colab-df-container\">\n",
              "      <div>\n",
              "<style scoped>\n",
              "    .dataframe tbody tr th:only-of-type {\n",
              "        vertical-align: middle;\n",
              "    }\n",
              "\n",
              "    .dataframe tbody tr th {\n",
              "        vertical-align: top;\n",
              "    }\n",
              "\n",
              "    .dataframe thead th {\n",
              "        text-align: right;\n",
              "    }\n",
              "</style>\n",
              "<table border=\"1\" class=\"dataframe\">\n",
              "  <thead>\n",
              "    <tr style=\"text-align: right;\">\n",
              "      <th></th>\n",
              "      <th>Open</th>\n",
              "      <th>High</th>\n",
              "      <th>Low</th>\n",
              "      <th>Close</th>\n",
              "      <th>Volume</th>\n",
              "      <th>Dividends</th>\n",
              "      <th>Stock Splits</th>\n",
              "    </tr>\n",
              "    <tr>\n",
              "      <th>Date</th>\n",
              "      <th></th>\n",
              "      <th></th>\n",
              "      <th></th>\n",
              "      <th></th>\n",
              "      <th></th>\n",
              "      <th></th>\n",
              "      <th></th>\n",
              "    </tr>\n",
              "  </thead>\n",
              "  <tbody>\n",
              "    <tr>\n",
              "      <th>2018-07-27 00:00:00+05:30</th>\n",
              "      <td>1091.943831</td>\n",
              "      <td>1109.403241</td>\n",
              "      <td>1084.774727</td>\n",
              "      <td>1102.039062</td>\n",
              "      <td>6742782</td>\n",
              "      <td>0.0</td>\n",
              "      <td>0.0</td>\n",
              "    </tr>\n",
              "    <tr>\n",
              "      <th>2018-07-30 00:00:00+05:30</th>\n",
              "      <td>1102.185427</td>\n",
              "      <td>1128.813495</td>\n",
              "      <td>1100.234675</td>\n",
              "      <td>1123.058716</td>\n",
              "      <td>14003964</td>\n",
              "      <td>0.0</td>\n",
              "      <td>0.0</td>\n",
              "    </tr>\n",
              "    <tr>\n",
              "      <th>2018-07-31 00:00:00+05:30</th>\n",
              "      <td>1122.668604</td>\n",
              "      <td>1161.098784</td>\n",
              "      <td>1118.913376</td>\n",
              "      <td>1156.807129</td>\n",
              "      <td>14006901</td>\n",
              "      <td>0.0</td>\n",
              "      <td>0.0</td>\n",
              "    </tr>\n",
              "    <tr>\n",
              "      <th>2018-08-01 00:00:00+05:30</th>\n",
              "      <td>1161.098901</td>\n",
              "      <td>1173.291164</td>\n",
              "      <td>1156.221900</td>\n",
              "      <td>1163.000854</td>\n",
              "      <td>9796282</td>\n",
              "      <td>0.0</td>\n",
              "      <td>0.0</td>\n",
              "    </tr>\n",
              "    <tr>\n",
              "      <th>2018-08-02 00:00:00+05:30</th>\n",
              "      <td>1162.171597</td>\n",
              "      <td>1162.171597</td>\n",
              "      <td>1137.250528</td>\n",
              "      <td>1139.591431</td>\n",
              "      <td>6308209</td>\n",
              "      <td>0.0</td>\n",
              "      <td>0.0</td>\n",
              "    </tr>\n",
              "    <tr>\n",
              "      <th>...</th>\n",
              "      <td>...</td>\n",
              "      <td>...</td>\n",
              "      <td>...</td>\n",
              "      <td>...</td>\n",
              "      <td>...</td>\n",
              "      <td>...</td>\n",
              "      <td>...</td>\n",
              "    </tr>\n",
              "    <tr>\n",
              "      <th>2023-07-21 00:00:00+05:30</th>\n",
              "      <td>2609.000000</td>\n",
              "      <td>2614.899902</td>\n",
              "      <td>2523.600098</td>\n",
              "      <td>2538.750000</td>\n",
              "      <td>15124619</td>\n",
              "      <td>0.0</td>\n",
              "      <td>0.0</td>\n",
              "    </tr>\n",
              "    <tr>\n",
              "      <th>2023-07-24 00:00:00+05:30</th>\n",
              "      <td>2481.000000</td>\n",
              "      <td>2514.949951</td>\n",
              "      <td>2469.300049</td>\n",
              "      <td>2487.399902</td>\n",
              "      <td>11863933</td>\n",
              "      <td>0.0</td>\n",
              "      <td>0.0</td>\n",
              "    </tr>\n",
              "    <tr>\n",
              "      <th>2023-07-25 00:00:00+05:30</th>\n",
              "      <td>2494.000000</td>\n",
              "      <td>2505.199951</td>\n",
              "      <td>2480.000000</td>\n",
              "      <td>2485.800049</td>\n",
              "      <td>6013010</td>\n",
              "      <td>0.0</td>\n",
              "      <td>0.0</td>\n",
              "    </tr>\n",
              "    <tr>\n",
              "      <th>2023-07-26 00:00:00+05:30</th>\n",
              "      <td>2485.000000</td>\n",
              "      <td>2547.000000</td>\n",
              "      <td>2485.000000</td>\n",
              "      <td>2526.199951</td>\n",
              "      <td>6455506</td>\n",
              "      <td>0.0</td>\n",
              "      <td>0.0</td>\n",
              "    </tr>\n",
              "    <tr>\n",
              "      <th>2023-07-27 00:00:00+05:30</th>\n",
              "      <td>2534.050049</td>\n",
              "      <td>2537.649902</td>\n",
              "      <td>2490.350098</td>\n",
              "      <td>2502.699951</td>\n",
              "      <td>8612030</td>\n",
              "      <td>0.0</td>\n",
              "      <td>0.0</td>\n",
              "    </tr>\n",
              "  </tbody>\n",
              "</table>\n",
              "<p>1234 rows × 7 columns</p>\n",
              "</div>\n",
              "      <button class=\"colab-df-convert\" onclick=\"convertToInteractive('df-d5a97f24-d89c-4012-8ae8-6de93b6ed724')\"\n",
              "              title=\"Convert this dataframe to an interactive table.\"\n",
              "              style=\"display:none;\">\n",
              "\n",
              "  <svg xmlns=\"http://www.w3.org/2000/svg\" height=\"24px\"viewBox=\"0 0 24 24\"\n",
              "       width=\"24px\">\n",
              "    <path d=\"M0 0h24v24H0V0z\" fill=\"none\"/>\n",
              "    <path d=\"M18.56 5.44l.94 2.06.94-2.06 2.06-.94-2.06-.94-.94-2.06-.94 2.06-2.06.94zm-11 1L8.5 8.5l.94-2.06 2.06-.94-2.06-.94L8.5 2.5l-.94 2.06-2.06.94zm10 10l.94 2.06.94-2.06 2.06-.94-2.06-.94-.94-2.06-.94 2.06-2.06.94z\"/><path d=\"M17.41 7.96l-1.37-1.37c-.4-.4-.92-.59-1.43-.59-.52 0-1.04.2-1.43.59L10.3 9.45l-7.72 7.72c-.78.78-.78 2.05 0 2.83L4 21.41c.39.39.9.59 1.41.59.51 0 1.02-.2 1.41-.59l7.78-7.78 2.81-2.81c.8-.78.8-2.07 0-2.86zM5.41 20L4 18.59l7.72-7.72 1.47 1.35L5.41 20z\"/>\n",
              "  </svg>\n",
              "      </button>\n",
              "\n",
              "\n",
              "\n",
              "    <div id=\"df-1a007a4e-a9dd-48e4-8df2-1fbbdba2594b\">\n",
              "      <button class=\"colab-df-quickchart\" onclick=\"quickchart('df-1a007a4e-a9dd-48e4-8df2-1fbbdba2594b')\"\n",
              "              title=\"Suggest charts.\"\n",
              "              style=\"display:none;\">\n",
              "\n",
              "<svg xmlns=\"http://www.w3.org/2000/svg\" height=\"24px\"viewBox=\"0 0 24 24\"\n",
              "     width=\"24px\">\n",
              "    <g>\n",
              "        <path d=\"M19 3H5c-1.1 0-2 .9-2 2v14c0 1.1.9 2 2 2h14c1.1 0 2-.9 2-2V5c0-1.1-.9-2-2-2zM9 17H7v-7h2v7zm4 0h-2V7h2v10zm4 0h-2v-4h2v4z\"/>\n",
              "    </g>\n",
              "</svg>\n",
              "      </button>\n",
              "    </div>\n",
              "\n",
              "<style>\n",
              "  .colab-df-quickchart {\n",
              "    background-color: #E8F0FE;\n",
              "    border: none;\n",
              "    border-radius: 50%;\n",
              "    cursor: pointer;\n",
              "    display: none;\n",
              "    fill: #1967D2;\n",
              "    height: 32px;\n",
              "    padding: 0 0 0 0;\n",
              "    width: 32px;\n",
              "  }\n",
              "\n",
              "  .colab-df-quickchart:hover {\n",
              "    background-color: #E2EBFA;\n",
              "    box-shadow: 0px 1px 2px rgba(60, 64, 67, 0.3), 0px 1px 3px 1px rgba(60, 64, 67, 0.15);\n",
              "    fill: #174EA6;\n",
              "  }\n",
              "\n",
              "  [theme=dark] .colab-df-quickchart {\n",
              "    background-color: #3B4455;\n",
              "    fill: #D2E3FC;\n",
              "  }\n",
              "\n",
              "  [theme=dark] .colab-df-quickchart:hover {\n",
              "    background-color: #434B5C;\n",
              "    box-shadow: 0px 1px 3px 1px rgba(0, 0, 0, 0.15);\n",
              "    filter: drop-shadow(0px 1px 2px rgba(0, 0, 0, 0.3));\n",
              "    fill: #FFFFFF;\n",
              "  }\n",
              "</style>\n",
              "\n",
              "    <script>\n",
              "      async function quickchart(key) {\n",
              "        const containerElement = document.querySelector('#' + key);\n",
              "        const charts = await google.colab.kernel.invokeFunction(\n",
              "            'suggestCharts', [key], {});\n",
              "      }\n",
              "    </script>\n",
              "\n",
              "      <script>\n",
              "\n",
              "function displayQuickchartButton(domScope) {\n",
              "  let quickchartButtonEl =\n",
              "    domScope.querySelector('#df-1a007a4e-a9dd-48e4-8df2-1fbbdba2594b button.colab-df-quickchart');\n",
              "  quickchartButtonEl.style.display =\n",
              "    google.colab.kernel.accessAllowed ? 'block' : 'none';\n",
              "}\n",
              "\n",
              "        displayQuickchartButton(document);\n",
              "      </script>\n",
              "      <style>\n",
              "    .colab-df-container {\n",
              "      display:flex;\n",
              "      flex-wrap:wrap;\n",
              "      gap: 12px;\n",
              "    }\n",
              "\n",
              "    .colab-df-convert {\n",
              "      background-color: #E8F0FE;\n",
              "      border: none;\n",
              "      border-radius: 50%;\n",
              "      cursor: pointer;\n",
              "      display: none;\n",
              "      fill: #1967D2;\n",
              "      height: 32px;\n",
              "      padding: 0 0 0 0;\n",
              "      width: 32px;\n",
              "    }\n",
              "\n",
              "    .colab-df-convert:hover {\n",
              "      background-color: #E2EBFA;\n",
              "      box-shadow: 0px 1px 2px rgba(60, 64, 67, 0.3), 0px 1px 3px 1px rgba(60, 64, 67, 0.15);\n",
              "      fill: #174EA6;\n",
              "    }\n",
              "\n",
              "    [theme=dark] .colab-df-convert {\n",
              "      background-color: #3B4455;\n",
              "      fill: #D2E3FC;\n",
              "    }\n",
              "\n",
              "    [theme=dark] .colab-df-convert:hover {\n",
              "      background-color: #434B5C;\n",
              "      box-shadow: 0px 1px 3px 1px rgba(0, 0, 0, 0.15);\n",
              "      filter: drop-shadow(0px 1px 2px rgba(0, 0, 0, 0.3));\n",
              "      fill: #FFFFFF;\n",
              "    }\n",
              "  </style>\n",
              "\n",
              "      <script>\n",
              "        const buttonEl =\n",
              "          document.querySelector('#df-d5a97f24-d89c-4012-8ae8-6de93b6ed724 button.colab-df-convert');\n",
              "        buttonEl.style.display =\n",
              "          google.colab.kernel.accessAllowed ? 'block' : 'none';\n",
              "\n",
              "        async function convertToInteractive(key) {\n",
              "          const element = document.querySelector('#df-d5a97f24-d89c-4012-8ae8-6de93b6ed724');\n",
              "          const dataTable =\n",
              "            await google.colab.kernel.invokeFunction('convertToInteractive',\n",
              "                                                     [key], {});\n",
              "          if (!dataTable) return;\n",
              "\n",
              "          const docLinkHtml = 'Like what you see? Visit the ' +\n",
              "            '<a target=\"_blank\" href=https://colab.research.google.com/notebooks/data_table.ipynb>data table notebook</a>'\n",
              "            + ' to learn more about interactive tables.';\n",
              "          element.innerHTML = '';\n",
              "          dataTable['output_type'] = 'display_data';\n",
              "          await google.colab.output.renderOutput(dataTable, element);\n",
              "          const docLink = document.createElement('div');\n",
              "          docLink.innerHTML = docLinkHtml;\n",
              "          element.appendChild(docLink);\n",
              "        }\n",
              "      </script>\n",
              "    </div>\n",
              "  </div>\n"
            ]
          },
          "metadata": {},
          "execution_count": 3
        }
      ],
      "source": [
        "relc"
      ]
    },
    {
      "cell_type": "code",
      "execution_count": 4,
      "metadata": {
        "id": "qisH155ZfyBf",
        "colab": {
          "base_uri": "https://localhost:8080/"
        },
        "outputId": "3852ce1f-04b2-4f4a-8bb9-d77aa83b3c38"
      },
      "outputs": [
        {
          "output_type": "execute_result",
          "data": {
            "text/plain": [
              "count    1234.000000\n",
              "mean     1927.042690\n",
              "std       550.402343\n",
              "min       867.064575\n",
              "25%      1327.609253\n",
              "50%      2059.628418\n",
              "75%      2422.928284\n",
              "max      2841.850098\n",
              "Name: Close, dtype: float64"
            ]
          },
          "metadata": {},
          "execution_count": 4
        }
      ],
      "source": [
        "relc['Close'].describe()"
      ]
    },
    {
      "cell_type": "code",
      "execution_count": 5,
      "metadata": {
        "id": "kdtD_db203fa",
        "colab": {
          "base_uri": "https://localhost:8080/"
        },
        "outputId": "b1578708-7c0a-4d5c-cf13-bd9368570af2"
      },
      "outputs": [
        {
          "output_type": "execute_result",
          "data": {
            "text/plain": [
              "Open            0\n",
              "High            0\n",
              "Low             0\n",
              "Close           0\n",
              "Volume          0\n",
              "Dividends       0\n",
              "Stock Splits    0\n",
              "dtype: int64"
            ]
          },
          "metadata": {},
          "execution_count": 5
        }
      ],
      "source": [
        "relc.isnull().sum()"
      ]
    },
    {
      "cell_type": "code",
      "execution_count": 6,
      "metadata": {
        "id": "2C_VDaS91y3P",
        "colab": {
          "base_uri": "https://localhost:8080/"
        },
        "outputId": "ec631b59-4651-4da1-e2c5-dbd093e47d32"
      },
      "outputs": [
        {
          "output_type": "execute_result",
          "data": {
            "text/plain": [
              "Date\n",
              "2018-07-27 00:00:00+05:30    1102.039062\n",
              "2018-07-30 00:00:00+05:30    1123.058716\n",
              "2018-07-31 00:00:00+05:30    1156.807129\n",
              "2018-08-01 00:00:00+05:30    1163.000854\n",
              "2018-08-02 00:00:00+05:30    1139.591431\n",
              "                                ...     \n",
              "2023-07-21 00:00:00+05:30    2538.750000\n",
              "2023-07-24 00:00:00+05:30    2487.399902\n",
              "2023-07-25 00:00:00+05:30    2485.800049\n",
              "2023-07-26 00:00:00+05:30    2526.199951\n",
              "2023-07-27 00:00:00+05:30    2502.699951\n",
              "Name: Close, Length: 1234, dtype: float64"
            ]
          },
          "metadata": {},
          "execution_count": 6
        }
      ],
      "source": [
        "relc['Close']"
      ]
    },
    {
      "cell_type": "code",
      "execution_count": 7,
      "metadata": {
        "id": "gldArW8D7f2T",
        "colab": {
          "base_uri": "https://localhost:8080/",
          "height": 322
        },
        "outputId": "b49e4710-ce73-4bf4-a0fe-2294ed271506"
      },
      "outputs": [
        {
          "output_type": "display_data",
          "data": {
            "text/plain": [
              "<Figure size 700x300 with 1 Axes>"
            ],
            "image/png": "[encoded data removed]"
          },
          "metadata": {}
        }
      ],
      "source": [
        "from matplotlib import rcParams\n",
        "import matplotlib.pyplot as plt\n",
        "rcParams['figure.figsize'] = 7,3\n",
        "plt.title('Relience Stock dataset', size=20)\n",
        "plt.plot(relc[\"Close\"]);"
      ]
    },
    {
      "cell_type": "code",
      "execution_count": 8,
      "metadata": {
        "id": "3j-9eXEt6xsf"
      },
      "outputs": [],
      "source": [
        "import numpy as np"
      ]
    },
    {
      "cell_type": "code",
      "execution_count": 9,
      "metadata": {
        "id": "CDyNdGc06_mv"
      },
      "outputs": [],
      "source": [
        "from sklearn.preprocessing import MinMaxScaler\n",
        "scaler = MinMaxScaler()\n",
        "scl_rel=scaler.fit_transform(np.array(relc[\"Close\"]).reshape(-1,1))"
      ]
    },
    {
      "cell_type": "code",
      "execution_count": 10,
      "metadata": {
        "id": "QjLOBruQVUWC",
        "colab": {
          "base_uri": "https://localhost:8080/"
        },
        "outputId": "b75039cb-03fb-44b6-a1d3-c8c12c20c02d"
      },
      "outputs": [
        {
          "output_type": "execute_result",
          "data": {
            "text/plain": [
              "(1234, 1)"
            ]
          },
          "metadata": {},
          "execution_count": 10
        }
      ],
      "source": [
        "df=np.array(relc[\"Close\"]).reshape(relc[\"Close\"].shape[0],1)\n",
        "df.shape"
      ]
    },
    {
      "cell_type": "code",
      "execution_count": 11,
      "metadata": {
        "id": "fBaUhi3jTpIU",
        "colab": {
          "base_uri": "https://localhost:8080/"
        },
        "outputId": "5139d830-7bcd-4d8e-aac0-b77b3f7e6cdb"
      },
      "outputs": [
        {
          "output_type": "execute_result",
          "data": {
            "text/plain": [
              "(array([[0.11898735],\n",
              "        [0.12963136],\n",
              "        [0.14672102],\n",
              "        ...,\n",
              "        [0.81970191],\n",
              "        [0.84015978],\n",
              "        [0.82825976]]),\n",
              " (1234, 1))"
            ]
          },
          "metadata": {},
          "execution_count": 11
        }
      ],
      "source": [
        "scl_rel,scl_rel.shape"
      ]
    },
    {
      "cell_type": "code",
      "execution_count": 12,
      "metadata": {
        "id": "7hAo1hmn2B1-"
      },
      "outputs": [],
      "source": [
        "train_size=int(np.floor(len(scl_rel)*0.70))"
      ]
    },
    {
      "cell_type": "code",
      "execution_count": 13,
      "metadata": {
        "id": "hJeefRE538VD"
      },
      "outputs": [],
      "source": [
        "train_data=scl_rel[0:train_size]\n",
        "test_data=scl_rel[train_size+1:]"
      ]
    },
    {
      "cell_type": "code",
      "execution_count": 14,
      "metadata": {
        "colab": {
          "base_uri": "https://localhost:8080/"
        },
        "id": "MUk3Q0DT4ivF",
        "outputId": "399e23e3-4d3b-46f1-e952-aefd3d875f0d"
      },
      "outputs": [
        {
          "output_type": "execute_result",
          "data": {
            "text/plain": [
              "((863, 1), (370, 1))"
            ]
          },
          "metadata": {},
          "execution_count": 14
        }
      ],
      "source": [
        "train_data.shape,test_data.shape"
      ]
    },
    {
      "cell_type": "code",
      "execution_count": 15,
      "metadata": {
        "id": "AAcaGjj1IDCO"
      },
      "outputs": [],
      "source": [
        "def datasets(data,timestep=1):\n",
        "  X_train,Y_train=[],[]\n",
        "  for i in range (len(train_data)-timestep-1):\n",
        "    a=train_data[i:(i+timestep),0]\n",
        "    X_train.append(a)\n",
        "    Y_train.append(train_data[i+timestep,0])\n",
        "  return np.array(X_train),np.array(Y_train)"
      ]
    },
    {
      "cell_type": "code",
      "execution_count": 16,
      "metadata": {
        "id": "Ao5wMKRGKGn8"
      },
      "outputs": [],
      "source": [
        "timestep=90\n",
        "X_train,Y_train=datasets(train_data,timestep)"
      ]
    },
    {
      "cell_type": "code",
      "execution_count": 17,
      "metadata": {
        "colab": {
          "base_uri": "https://localhost:8080/",
          "height": 487
        },
        "id": "CbSRYbDNOC2y",
        "outputId": "e81a49fb-bbc1-49e5-a4ef-bbecf56a1cff"
      },
      "outputs": [
        {
          "output_type": "execute_result",
          "data": {
            "text/plain": [
              "           0         1         2         3         4         5         6   \\\n",
              "0    0.118987  0.129631  0.146721  0.149857  0.138003  0.142251  0.149981   \n",
              "1    0.129631  0.146721  0.149857  0.138003  0.142251  0.149981  0.145832   \n",
              "2    0.146721  0.149857  0.138003  0.142251  0.149981  0.145832  0.162378   \n",
              "3    0.149857  0.138003  0.142251  0.149981  0.145832  0.162378  0.162502   \n",
              "4    0.138003  0.142251  0.149981  0.145832  0.162378  0.162502  0.155710   \n",
              "..        ...       ...       ...       ...       ...       ...       ...   \n",
              "767  0.785531  0.758243  0.756678  0.761651  0.786843  0.767835  0.769754   \n",
              "768  0.758243  0.756678  0.761651  0.786843  0.767835  0.769754  0.774979   \n",
              "769  0.756678  0.761651  0.786843  0.767835  0.769754  0.774979  0.788004   \n",
              "770  0.761651  0.786843  0.767835  0.769754  0.774979  0.788004  0.817993   \n",
              "771  0.786843  0.767835  0.769754  0.774979  0.788004  0.817993  0.814358   \n",
              "\n",
              "           7         8         9   ...        80        81        82  \\\n",
              "0    0.145832  0.162378  0.162502  ...  0.130249  0.138077  0.137608   \n",
              "1    0.162378  0.162502  0.155710  ...  0.138077  0.137608  0.132126   \n",
              "2    0.162502  0.155710  0.147561  ...  0.137608  0.132126  0.130076   \n",
              "3    0.155710  0.147561  0.158871  ...  0.132126  0.130076  0.131484   \n",
              "4    0.147561  0.158871  0.154031  ...  0.130076  0.131484  0.115925   \n",
              "..        ...       ...       ...  ...       ...       ...       ...   \n",
              "767  0.774979  0.788004  0.817993  ...  0.807745  0.780936  0.790781   \n",
              "768  0.788004  0.817993  0.814358  ...  0.780936  0.790781  0.791791   \n",
              "769  0.817993  0.814358  0.835436  ...  0.790781  0.791791  0.800651   \n",
              "770  0.814358  0.835436  0.847351  ...  0.791791  0.800651  0.833745   \n",
              "771  0.835436  0.847351  0.837153  ...  0.800651  0.833745  0.840914   \n",
              "\n",
              "           83        84        85        86        87        88        89  \n",
              "0    0.132126  0.130076  0.131484  0.115925  0.120938  0.099428  0.103034  \n",
              "1    0.130076  0.131484  0.115925  0.120938  0.099428  0.103034  0.109430  \n",
              "2    0.131484  0.115925  0.120938  0.099428  0.103034  0.109430  0.107726  \n",
              "3    0.115925  0.120938  0.099428  0.103034  0.109430  0.107726  0.110270  \n",
              "4    0.120938  0.099428  0.103034  0.109430  0.107726  0.110270  0.119012  \n",
              "..        ...       ...       ...       ...       ...       ...       ...  \n",
              "767  0.791791  0.800651  0.833745  0.840914  0.842782  0.849472  0.834099  \n",
              "768  0.800651  0.833745  0.840914  0.842782  0.849472  0.834099  0.833998  \n",
              "769  0.833745  0.840914  0.842782  0.849472  0.834099  0.833998  0.811708  \n",
              "770  0.840914  0.842782  0.849472  0.834099  0.833998  0.811708  0.811910  \n",
              "771  0.842782  0.849472  0.834099  0.833998  0.811708  0.811910  0.761449  \n",
              "\n",
              "[772 rows x 90 columns]"
            ],
            "text/html": [
              "\n",
              "\n",
              "  <div id=\"df-5f8746a8-94e3-495a-a30c-bbb167b2a4d8\">\n",
              "    <div class=\"colab-df-container\">\n",
              "      <div>\n",
              "<style scoped>\n",
              "    .dataframe tbody tr th:only-of-type {\n",
              "        vertical-align: middle;\n",
              "    }\n",
              "\n",
              "    .dataframe tbody tr th {\n",
              "        vertical-align: top;\n",
              "    }\n",
              "\n",
              "    .dataframe thead th {\n",
              "        text-align: right;\n",
              "    }\n",
              "</style>\n",
              "<table border=\"1\" class=\"dataframe\">\n",
              "  <thead>\n",
              "    <tr style=\"text-align: right;\">\n",
              "      <th></th>\n",
              "      <th>0</th>\n",
              "      <th>1</th>\n",
              "      <th>2</th>\n",
              "      <th>3</th>\n",
              "      <th>4</th>\n",
              "      <th>5</th>\n",
              "      <th>6</th>\n",
              "      <th>7</th>\n",
              "      <th>8</th>\n",
              "      <th>9</th>\n",
              "      <th>...</th>\n",
              "      <th>80</th>\n",
              "      <th>81</th>\n",
              "      <th>82</th>\n",
              "      <th>83</th>\n",
              "      <th>84</th>\n",
              "      <th>85</th>\n",
              "      <th>86</th>\n",
              "      <th>87</th>\n",
              "      <th>88</th>\n",
              "      <th>89</th>\n",
              "    </tr>\n",
              "  </thead>\n",
              "  <tbody>\n",
              "    <tr>\n",
              "      <th>0</th>\n",
              "      <td>0.118987</td>\n",
              "      <td>0.129631</td>\n",
              "      <td>0.146721</td>\n",
              "      <td>0.149857</td>\n",
              "      <td>0.138003</td>\n",
              "      <td>0.142251</td>\n",
              "      <td>0.149981</td>\n",
              "      <td>0.145832</td>\n",
              "      <td>0.162378</td>\n",
              "      <td>0.162502</td>\n",
              "      <td>...</td>\n",
              "      <td>0.130249</td>\n",
              "      <td>0.138077</td>\n",
              "      <td>0.137608</td>\n",
              "      <td>0.132126</td>\n",
              "      <td>0.130076</td>\n",
              "      <td>0.131484</td>\n",
              "      <td>0.115925</td>\n",
              "      <td>0.120938</td>\n",
              "      <td>0.099428</td>\n",
              "      <td>0.103034</td>\n",
              "    </tr>\n",
              "    <tr>\n",
              "      <th>1</th>\n",
              "      <td>0.129631</td>\n",
              "      <td>0.146721</td>\n",
              "      <td>0.149857</td>\n",
              "      <td>0.138003</td>\n",
              "      <td>0.142251</td>\n",
              "      <td>0.149981</td>\n",
              "      <td>0.145832</td>\n",
              "      <td>0.162378</td>\n",
              "      <td>0.162502</td>\n",
              "      <td>0.155710</td>\n",
              "      <td>...</td>\n",
              "      <td>0.138077</td>\n",
              "      <td>0.137608</td>\n",
              "      <td>0.132126</td>\n",
              "      <td>0.130076</td>\n",
              "      <td>0.131484</td>\n",
              "      <td>0.115925</td>\n",
              "      <td>0.120938</td>\n",
              "      <td>0.099428</td>\n",
              "      <td>0.103034</td>\n",
              "      <td>0.109430</td>\n",
              "    </tr>\n",
              "    <tr>\n",
              "      <th>2</th>\n",
              "      <td>0.146721</td>\n",
              "      <td>0.149857</td>\n",
              "      <td>0.138003</td>\n",
              "      <td>0.142251</td>\n",
              "      <td>0.149981</td>\n",
              "      <td>0.145832</td>\n",
              "      <td>0.162378</td>\n",
              "      <td>0.162502</td>\n",
              "      <td>0.155710</td>\n",
              "      <td>0.147561</td>\n",
              "      <td>...</td>\n",
              "      <td>0.137608</td>\n",
              "      <td>0.132126</td>\n",
              "      <td>0.130076</td>\n",
              "      <td>0.131484</td>\n",
              "      <td>0.115925</td>\n",
              "      <td>0.120938</td>\n",
              "      <td>0.099428</td>\n",
              "      <td>0.103034</td>\n",
              "      <td>0.109430</td>\n",
              "      <td>0.107726</td>\n",
              "    </tr>\n",
              "    <tr>\n",
              "      <th>3</th>\n",
              "      <td>0.149857</td>\n",
              "      <td>0.138003</td>\n",
              "      <td>0.142251</td>\n",
              "      <td>0.149981</td>\n",
              "      <td>0.145832</td>\n",
              "      <td>0.162378</td>\n",
              "      <td>0.162502</td>\n",
              "      <td>0.155710</td>\n",
              "      <td>0.147561</td>\n",
              "      <td>0.158871</td>\n",
              "      <td>...</td>\n",
              "      <td>0.132126</td>\n",
              "      <td>0.130076</td>\n",
              "      <td>0.131484</td>\n",
              "      <td>0.115925</td>\n",
              "      <td>0.120938</td>\n",
              "      <td>0.099428</td>\n",
              "      <td>0.103034</td>\n",
              "      <td>0.109430</td>\n",
              "      <td>0.107726</td>\n",
              "      <td>0.110270</td>\n",
              "    </tr>\n",
              "    <tr>\n",
              "      <th>4</th>\n",
              "      <td>0.138003</td>\n",
              "      <td>0.142251</td>\n",
              "      <td>0.149981</td>\n",
              "      <td>0.145832</td>\n",
              "      <td>0.162378</td>\n",
              "      <td>0.162502</td>\n",
              "      <td>0.155710</td>\n",
              "      <td>0.147561</td>\n",
              "      <td>0.158871</td>\n",
              "      <td>0.154031</td>\n",
              "      <td>...</td>\n",
              "      <td>0.130076</td>\n",
              "      <td>0.131484</td>\n",
              "      <td>0.115925</td>\n",
              "      <td>0.120938</td>\n",
              "      <td>0.099428</td>\n",
              "      <td>0.103034</td>\n",
              "      <td>0.109430</td>\n",
              "      <td>0.107726</td>\n",
              "      <td>0.110270</td>\n",
              "      <td>0.119012</td>\n",
              "    </tr>\n",
              "    <tr>\n",
              "      <th>...</th>\n",
              "      <td>...</td>\n",
              "      <td>...</td>\n",
              "      <td>...</td>\n",
              "      <td>...</td>\n",
              "      <td>...</td>\n",
              "      <td>...</td>\n",
              "      <td>...</td>\n",
              "      <td>...</td>\n",
              "      <td>...</td>\n",
              "      <td>...</td>\n",
              "      <td>...</td>\n",
              "      <td>...</td>\n",
              "      <td>...</td>\n",
              "      <td>...</td>\n",
              "      <td>...</td>\n",
              "      <td>...</td>\n",
              "      <td>...</td>\n",
              "      <td>...</td>\n",
              "      <td>...</td>\n",
              "      <td>...</td>\n",
              "      <td>...</td>\n",
              "    </tr>\n",
              "    <tr>\n",
              "      <th>767</th>\n",
              "      <td>0.785531</td>\n",
              "      <td>0.758243</td>\n",
              "      <td>0.756678</td>\n",
              "      <td>0.761651</td>\n",
              "      <td>0.786843</td>\n",
              "      <td>0.767835</td>\n",
              "      <td>0.769754</td>\n",
              "      <td>0.774979</td>\n",
              "      <td>0.788004</td>\n",
              "      <td>0.817993</td>\n",
              "      <td>...</td>\n",
              "      <td>0.807745</td>\n",
              "      <td>0.780936</td>\n",
              "      <td>0.790781</td>\n",
              "      <td>0.791791</td>\n",
              "      <td>0.800651</td>\n",
              "      <td>0.833745</td>\n",
              "      <td>0.840914</td>\n",
              "      <td>0.842782</td>\n",
              "      <td>0.849472</td>\n",
              "      <td>0.834099</td>\n",
              "    </tr>\n",
              "    <tr>\n",
              "      <th>768</th>\n",
              "      <td>0.758243</td>\n",
              "      <td>0.756678</td>\n",
              "      <td>0.761651</td>\n",
              "      <td>0.786843</td>\n",
              "      <td>0.767835</td>\n",
              "      <td>0.769754</td>\n",
              "      <td>0.774979</td>\n",
              "      <td>0.788004</td>\n",
              "      <td>0.817993</td>\n",
              "      <td>0.814358</td>\n",
              "      <td>...</td>\n",
              "      <td>0.780936</td>\n",
              "      <td>0.790781</td>\n",
              "      <td>0.791791</td>\n",
              "      <td>0.800651</td>\n",
              "      <td>0.833745</td>\n",
              "      <td>0.840914</td>\n",
              "      <td>0.842782</td>\n",
              "      <td>0.849472</td>\n",
              "      <td>0.834099</td>\n",
              "      <td>0.833998</td>\n",
              "    </tr>\n",
              "    <tr>\n",
              "      <th>769</th>\n",
              "      <td>0.756678</td>\n",
              "      <td>0.761651</td>\n",
              "      <td>0.786843</td>\n",
              "      <td>0.767835</td>\n",
              "      <td>0.769754</td>\n",
              "      <td>0.774979</td>\n",
              "      <td>0.788004</td>\n",
              "      <td>0.817993</td>\n",
              "      <td>0.814358</td>\n",
              "      <td>0.835436</td>\n",
              "      <td>...</td>\n",
              "      <td>0.790781</td>\n",
              "      <td>0.791791</td>\n",
              "      <td>0.800651</td>\n",
              "      <td>0.833745</td>\n",
              "      <td>0.840914</td>\n",
              "      <td>0.842782</td>\n",
              "      <td>0.849472</td>\n",
              "      <td>0.834099</td>\n",
              "      <td>0.833998</td>\n",
              "      <td>0.811708</td>\n",
              "    </tr>\n",
              "    <tr>\n",
              "      <th>770</th>\n",
              "      <td>0.761651</td>\n",
              "      <td>0.786843</td>\n",
              "      <td>0.767835</td>\n",
              "      <td>0.769754</td>\n",
              "      <td>0.774979</td>\n",
              "      <td>0.788004</td>\n",
              "      <td>0.817993</td>\n",
              "      <td>0.814358</td>\n",
              "      <td>0.835436</td>\n",
              "      <td>0.847351</td>\n",
              "      <td>...</td>\n",
              "      <td>0.791791</td>\n",
              "      <td>0.800651</td>\n",
              "      <td>0.833745</td>\n",
              "      <td>0.840914</td>\n",
              "      <td>0.842782</td>\n",
              "      <td>0.849472</td>\n",
              "      <td>0.834099</td>\n",
              "      <td>0.833998</td>\n",
              "      <td>0.811708</td>\n",
              "      <td>0.811910</td>\n",
              "    </tr>\n",
              "    <tr>\n",
              "      <th>771</th>\n",
              "      <td>0.786843</td>\n",
              "      <td>0.767835</td>\n",
              "      <td>0.769754</td>\n",
              "      <td>0.774979</td>\n",
              "      <td>0.788004</td>\n",
              "      <td>0.817993</td>\n",
              "      <td>0.814358</td>\n",
              "      <td>0.835436</td>\n",
              "      <td>0.847351</td>\n",
              "      <td>0.837153</td>\n",
              "      <td>...</td>\n",
              "      <td>0.800651</td>\n",
              "      <td>0.833745</td>\n",
              "      <td>0.840914</td>\n",
              "      <td>0.842782</td>\n",
              "      <td>0.849472</td>\n",
              "      <td>0.834099</td>\n",
              "      <td>0.833998</td>\n",
              "      <td>0.811708</td>\n",
              "      <td>0.811910</td>\n",
              "      <td>0.761449</td>\n",
              "    </tr>\n",
              "  </tbody>\n",
              "</table>\n",
              "<p>772 rows × 90 columns</p>\n",
              "</div>\n",
              "      <button class=\"colab-df-convert\" onclick=\"convertToInteractive('df-5f8746a8-94e3-495a-a30c-bbb167b2a4d8')\"\n",
              "              title=\"Convert this dataframe to an interactive table.\"\n",
              "              style=\"display:none;\">\n",
              "\n",
              "  <svg xmlns=\"http://www.w3.org/2000/svg\" height=\"24px\"viewBox=\"0 0 24 24\"\n",
              "       width=\"24px\">\n",
              "    <path d=\"M0 0h24v24H0V0z\" fill=\"none\"/>\n",
              "    <path d=\"M18.56 5.44l.94 2.06.94-2.06 2.06-.94-2.06-.94-.94-2.06-.94 2.06-2.06.94zm-11 1L8.5 8.5l.94-2.06 2.06-.94-2.06-.94L8.5 2.5l-.94 2.06-2.06.94zm10 10l.94 2.06.94-2.06 2.06-.94-2.06-.94-.94-2.06-.94 2.06-2.06.94z\"/><path d=\"M17.41 7.96l-1.37-1.37c-.4-.4-.92-.59-1.43-.59-.52 0-1.04.2-1.43.59L10.3 9.45l-7.72 7.72c-.78.78-.78 2.05 0 2.83L4 21.41c.39.39.9.59 1.41.59.51 0 1.02-.2 1.41-.59l7.78-7.78 2.81-2.81c.8-.78.8-2.07 0-2.86zM5.41 20L4 18.59l7.72-7.72 1.47 1.35L5.41 20z\"/>\n",
              "  </svg>\n",
              "      </button>\n",
              "\n",
              "\n",
              "\n",
              "    <div id=\"df-7b6ba2ce-0853-40ac-ab4b-8937932f881f\">\n",
              "      <button class=\"colab-df-quickchart\" onclick=\"quickchart('df-7b6ba2ce-0853-40ac-ab4b-8937932f881f')\"\n",
              "              title=\"Suggest charts.\"\n",
              "              style=\"display:none;\">\n",
              "\n",
              "<svg xmlns=\"http://www.w3.org/2000/svg\" height=\"24px\"viewBox=\"0 0 24 24\"\n",
              "     width=\"24px\">\n",
              "    <g>\n",
              "        <path d=\"M19 3H5c-1.1 0-2 .9-2 2v14c0 1.1.9 2 2 2h14c1.1 0 2-.9 2-2V5c0-1.1-.9-2-2-2zM9 17H7v-7h2v7zm4 0h-2V7h2v10zm4 0h-2v-4h2v4z\"/>\n",
              "    </g>\n",
              "</svg>\n",
              "      </button>\n",
              "    </div>\n",
              "\n",
              "<style>\n",
              "  .colab-df-quickchart {\n",
              "    background-color: #E8F0FE;\n",
              "    border: none;\n",
              "    border-radius: 50%;\n",
              "    cursor: pointer;\n",
              "    display: none;\n",
              "    fill: #1967D2;\n",
              "    height: 32px;\n",
              "    padding: 0 0 0 0;\n",
              "    width: 32px;\n",
              "  }\n",
              "\n",
              "  .colab-df-quickchart:hover {\n",
              "    background-color: #E2EBFA;\n",
              "    box-shadow: 0px 1px 2px rgba(60, 64, 67, 0.3), 0px 1px 3px 1px rgba(60, 64, 67, 0.15);\n",
              "    fill: #174EA6;\n",
              "  }\n",
              "\n",
              "  [theme=dark] .colab-df-quickchart {\n",
              "    background-color: #3B4455;\n",
              "    fill: #D2E3FC;\n",
              "  }\n",
              "\n",
              "  [theme=dark] .colab-df-quickchart:hover {\n",
              "    background-color: #434B5C;\n",
              "    box-shadow: 0px 1px 3px 1px rgba(0, 0, 0, 0.15);\n",
              "    filter: drop-shadow(0px 1px 2px rgba(0, 0, 0, 0.3));\n",
              "    fill: #FFFFFF;\n",
              "  }\n",
              "</style>\n",
              "\n",
              "    <script>\n",
              "      async function quickchart(key) {\n",
              "        const containerElement = document.querySelector('#' + key);\n",
              "        const charts = await google.colab.kernel.invokeFunction(\n",
              "            'suggestCharts', [key], {});\n",
              "      }\n",
              "    </script>\n",
              "\n",
              "      <script>\n",
              "\n",
              "function displayQuickchartButton(domScope) {\n",
              "  let quickchartButtonEl =\n",
              "    domScope.querySelector('#df-7b6ba2ce-0853-40ac-ab4b-8937932f881f button.colab-df-quickchart');\n",
              "  quickchartButtonEl.style.display =\n",
              "    google.colab.kernel.accessAllowed ? 'block' : 'none';\n",
              "}\n",
              "\n",
              "        displayQuickchartButton(document);\n",
              "      </script>\n",
              "      <style>\n",
              "    .colab-df-container {\n",
              "      display:flex;\n",
              "      flex-wrap:wrap;\n",
              "      gap: 12px;\n",
              "    }\n",
              "\n",
              "    .colab-df-convert {\n",
              "      background-color: #E8F0FE;\n",
              "      border: none;\n",
              "      border-radius: 50%;\n",
              "      cursor: pointer;\n",
              "      display: none;\n",
              "      fill: #1967D2;\n",
              "      height: 32px;\n",
              "      padding: 0 0 0 0;\n",
              "      width: 32px;\n",
              "    }\n",
              "\n",
              "    .colab-df-convert:hover {\n",
              "      background-color: #E2EBFA;\n",
              "      box-shadow: 0px 1px 2px rgba(60, 64, 67, 0.3), 0px 1px 3px 1px rgba(60, 64, 67, 0.15);\n",
              "      fill: #174EA6;\n",
              "    }\n",
              "\n",
              "    [theme=dark] .colab-df-convert {\n",
              "      background-color: #3B4455;\n",
              "      fill: #D2E3FC;\n",
              "    }\n",
              "\n",
              "    [theme=dark] .colab-df-convert:hover {\n",
              "      background-color: #434B5C;\n",
              "      box-shadow: 0px 1px 3px 1px rgba(0, 0, 0, 0.15);\n",
              "      filter: drop-shadow(0px 1px 2px rgba(0, 0, 0, 0.3));\n",
              "      fill: #FFFFFF;\n",
              "    }\n",
              "  </style>\n",
              "\n",
              "      <script>\n",
              "        const buttonEl =\n",
              "          document.querySelector('#df-5f8746a8-94e3-495a-a30c-bbb167b2a4d8 button.colab-df-convert');\n",
              "        buttonEl.style.display =\n",
              "          google.colab.kernel.accessAllowed ? 'block' : 'none';\n",
              "\n",
              "        async function convertToInteractive(key) {\n",
              "          const element = document.querySelector('#df-5f8746a8-94e3-495a-a30c-bbb167b2a4d8');\n",
              "          const dataTable =\n",
              "            await google.colab.kernel.invokeFunction('convertToInteractive',\n",
              "                                                     [key], {});\n",
              "          if (!dataTable) return;\n",
              "\n",
              "          const docLinkHtml = 'Like what you see? Visit the ' +\n",
              "            '<a target=\"_blank\" href=https://colab.research.google.com/notebooks/data_table.ipynb>data table notebook</a>'\n",
              "            + ' to learn more about interactive tables.';\n",
              "          element.innerHTML = '';\n",
              "          dataTable['output_type'] = 'display_data';\n",
              "          await google.colab.output.renderOutput(dataTable, element);\n",
              "          const docLink = document.createElement('div');\n",
              "          docLink.innerHTML = docLinkHtml;\n",
              "          element.appendChild(docLink);\n",
              "        }\n",
              "      </script>\n",
              "    </div>\n",
              "  </div>\n"
            ]
          },
          "metadata": {},
          "execution_count": 17
        }
      ],
      "source": [
        "import pandas as pd\n",
        "pd.DataFrame(X_train)"
      ]
    },
    {
      "cell_type": "code",
      "execution_count": 18,
      "metadata": {
        "id": "Ojt8ijGAOIab"
      },
      "outputs": [],
      "source": [
        "X_train=X_train.reshape(X_train.shape[0],X_train.shape[1],1)"
      ]
    },
    {
      "cell_type": "code",
      "execution_count": 19,
      "metadata": {
        "id": "G1c53aHbuKLb"
      },
      "outputs": [],
      "source": [
        "from tensorflow.keras.models import Sequential\n",
        "from tensorflow.keras.layers import Dense,LSTM"
      ]
    },
    {
      "cell_type": "code",
      "execution_count": 20,
      "metadata": {
        "id": "yyk6XE7oSlOG"
      },
      "outputs": [],
      "source": [
        "model=Sequential()\n",
        "model.add(LSTM(50,return_sequences=True,input_shape=(90,1)))\n",
        "model.add(LSTM(50,return_sequences=True))\n",
        "model.add(LSTM(50))\n",
        "model.add(Dense(1))\n",
        "model.compile(loss='mean_squared_error',optimizer='adam')"
      ]
    },
    {
      "cell_type": "code",
      "execution_count": 21,
      "metadata": {
        "colab": {
          "base_uri": "https://localhost:8080/"
        },
        "id": "q4vDQ-mZ62TF",
        "outputId": "36561cbd-734f-41ff-9987-38f03d754d45"
      },
      "outputs": [
        {
          "output_type": "stream",
          "name": "stdout",
          "text": [
            "Model: \"sequential\"\n",
            "_________________________________________________________________\n",
            " Layer (type)                Output Shape              Param #   \n",
            "=================================================================\n",
            " lstm (LSTM)                 (None, 90, 50)            10400     \n",
            "                                                                 \n",
            " lstm_1 (LSTM)               (None, 90, 50)            20200     \n",
            "                                                                 \n",
            " lstm_2 (LSTM)               (None, 50)                20200     \n",
            "                                                                 \n",
            " dense (Dense)               (None, 1)                 51        \n",
            "                                                                 \n",
            "=================================================================\n",
            "Total params: 50,851\n",
            "Trainable params: 50,851\n",
            "Non-trainable params: 0\n",
            "_________________________________________________________________\n"
          ]
        }
      ],
      "source": [
        "model.summary()"
      ]
    },
    {
      "cell_type": "code",
      "execution_count": 22,
      "metadata": {
        "id": "saAGHXky72c3"
      },
      "outputs": [],
      "source": [
        "def datasets_test(data,timestep=1):\n",
        "  X_test,Y_test=[],[]\n",
        "  for i in range (len(test_data)-timestep-1):\n",
        "    a=test_data[i:(i+timestep),0]\n",
        "    X_test.append(a)\n",
        "    Y_test.append(test_data[i+timestep,0])\n",
        "  return np.array(X_test),np.array(Y_test)"
      ]
    },
    {
      "cell_type": "code",
      "execution_count": 23,
      "metadata": {
        "id": "SDfO_xAL-kOI"
      },
      "outputs": [],
      "source": [
        "X_test,Y_test=datasets_test(test_data,90)"
      ]
    },
    {
      "cell_type": "code",
      "execution_count": 24,
      "metadata": {
        "colab": {
          "base_uri": "https://localhost:8080/"
        },
        "id": "0kq7iLEOA9L_",
        "outputId": "ba4cd3a7-f41b-46dc-b486-d155cee304f7"
      },
      "outputs": [
        {
          "output_type": "execute_result",
          "data": {
            "text/plain": [
              "(370, 1)"
            ]
          },
          "metadata": {},
          "execution_count": 24
        }
      ],
      "source": [
        "test_data.shape"
      ]
    },
    {
      "cell_type": "code",
      "execution_count": 25,
      "metadata": {
        "colab": {
          "base_uri": "https://localhost:8080/"
        },
        "id": "0iSRXqW7A14p",
        "outputId": "130dc667-0662-45d5-af61-36d268a7bf10"
      },
      "outputs": [
        {
          "output_type": "execute_result",
          "data": {
            "text/plain": [
              "((279, 90), (279,))"
            ]
          },
          "metadata": {},
          "execution_count": 25
        }
      ],
      "source": [
        "X_test.shape,Y_test.shape"
      ]
    },
    {
      "cell_type": "code",
      "execution_count": 26,
      "metadata": {
        "id": "USjchYe29vHz"
      },
      "outputs": [],
      "source": [
        "X_test=X_test.reshape(X_test.shape[0],X_test.shape[1],1)"
      ]
    },
    {
      "cell_type": "code",
      "execution_count": 27,
      "metadata": {
        "colab": {
          "base_uri": "https://localhost:8080/"
        },
        "id": "PkFhZ0-s69bb",
        "outputId": "33f71c65-bd5e-4b24-cd2f-3e59612dbaa8"
      },
      "outputs": [
        {
          "output_type": "stream",
          "name": "stdout",
          "text": [
            "Epoch 1/90\n",
            "13/13 [==============================] - 19s 463ms/step - loss: 0.0822 - val_loss: 0.0399\n",
            "Epoch 2/90\n",
            "13/13 [==============================] - 3s 229ms/step - loss: 0.0136 - val_loss: 0.0029\n",
            "Epoch 3/90\n",
            "13/13 [==============================] - 3s 227ms/step - loss: 0.0060 - val_loss: 0.0031\n",
            "Epoch 4/90\n",
            "13/13 [==============================] - 2s 184ms/step - loss: 0.0030 - val_loss: 0.0028\n",
            "Epoch 5/90\n",
            "13/13 [==============================] - 2s 184ms/step - loss: 0.0028 - val_loss: 0.0040\n",
            "Epoch 6/90\n",
            "13/13 [==============================] - 2s 182ms/step - loss: 0.0030 - val_loss: 0.0025\n",
            "Epoch 7/90\n",
            "13/13 [==============================] - 3s 259ms/step - loss: 0.0026 - val_loss: 0.0026\n",
            "Epoch 8/90\n",
            "13/13 [==============================] - 3s 205ms/step - loss: 0.0027 - val_loss: 0.0029\n",
            "Epoch 9/90\n",
            "13/13 [==============================] - 2s 185ms/step - loss: 0.0025 - val_loss: 0.0022\n",
            "Epoch 10/90\n",
            "13/13 [==============================] - 2s 186ms/step - loss: 0.0023 - val_loss: 0.0021\n",
            "Epoch 11/90\n",
            "13/13 [==============================] - 2s 186ms/step - loss: 0.0022 - val_loss: 0.0022\n",
            "Epoch 12/90\n",
            "13/13 [==============================] - 3s 267ms/step - loss: 0.0021 - val_loss: 0.0022\n",
            "Epoch 13/90\n",
            "13/13 [==============================] - 3s 195ms/step - loss: 0.0021 - val_loss: 0.0022\n",
            "Epoch 14/90\n",
            "13/13 [==============================] - 2s 185ms/step - loss: 0.0021 - val_loss: 0.0019\n",
            "Epoch 15/90\n",
            "13/13 [==============================] - 2s 182ms/step - loss: 0.0019 - val_loss: 0.0020\n",
            "Epoch 16/90\n",
            "13/13 [==============================] - 2s 183ms/step - loss: 0.0018 - val_loss: 0.0018\n",
            "Epoch 17/90\n",
            "13/13 [==============================] - 4s 297ms/step - loss: 0.0017 - val_loss: 0.0018\n",
            "Epoch 18/90\n",
            "13/13 [==============================] - 2s 185ms/step - loss: 0.0019 - val_loss: 0.0017\n",
            "Epoch 19/90\n",
            "13/13 [==============================] - 2s 181ms/step - loss: 0.0018 - val_loss: 0.0018\n",
            "Epoch 20/90\n",
            "13/13 [==============================] - 2s 181ms/step - loss: 0.0018 - val_loss: 0.0041\n",
            "Epoch 21/90\n",
            "13/13 [==============================] - 2s 183ms/step - loss: 0.0018 - val_loss: 0.0024\n",
            "Epoch 22/90\n",
            "13/13 [==============================] - 4s 285ms/step - loss: 0.0017 - val_loss: 0.0022\n",
            "Epoch 23/90\n",
            "13/13 [==============================] - 2s 183ms/step - loss: 0.0016 - val_loss: 0.0016\n",
            "Epoch 24/90\n",
            "13/13 [==============================] - 2s 186ms/step - loss: 0.0016 - val_loss: 0.0033\n",
            "Epoch 25/90\n",
            "13/13 [==============================] - 2s 182ms/step - loss: 0.0020 - val_loss: 0.0021\n",
            "Epoch 26/90\n",
            "13/13 [==============================] - 2s 184ms/step - loss: 0.0017 - val_loss: 0.0017\n",
            "Epoch 27/90\n",
            "13/13 [==============================] - 4s 285ms/step - loss: 0.0016 - val_loss: 0.0016\n",
            "Epoch 28/90\n",
            "13/13 [==============================] - 2s 184ms/step - loss: 0.0014 - val_loss: 0.0017\n",
            "Epoch 29/90\n",
            "13/13 [==============================] - 2s 186ms/step - loss: 0.0014 - val_loss: 0.0018\n",
            "Epoch 30/90\n",
            "13/13 [==============================] - 2s 185ms/step - loss: 0.0015 - val_loss: 0.0025\n",
            "Epoch 31/90\n",
            "13/13 [==============================] - 2s 187ms/step - loss: 0.0016 - val_loss: 0.0031\n",
            "Epoch 32/90\n",
            "13/13 [==============================] - 4s 276ms/step - loss: 0.0015 - val_loss: 0.0022\n",
            "Epoch 33/90\n",
            "13/13 [==============================] - 2s 185ms/step - loss: 0.0016 - val_loss: 0.0023\n",
            "Epoch 34/90\n",
            "13/13 [==============================] - 2s 186ms/step - loss: 0.0016 - val_loss: 0.0014\n",
            "Epoch 35/90\n",
            "13/13 [==============================] - 3s 215ms/step - loss: 0.0013 - val_loss: 0.0014\n",
            "Epoch 36/90\n",
            "13/13 [==============================] - 3s 250ms/step - loss: 0.0013 - val_loss: 0.0018\n",
            "Epoch 37/90\n",
            "13/13 [==============================] - 3s 218ms/step - loss: 0.0013 - val_loss: 0.0019\n",
            "Epoch 38/90\n",
            "13/13 [==============================] - 3s 258ms/step - loss: 0.0014 - val_loss: 0.0026\n",
            "Epoch 39/90\n",
            "13/13 [==============================] - 2s 185ms/step - loss: 0.0014 - val_loss: 0.0015\n",
            "Epoch 40/90\n",
            "13/13 [==============================] - 2s 187ms/step - loss: 0.0015 - val_loss: 0.0023\n",
            "Epoch 41/90\n",
            "13/13 [==============================] - 4s 288ms/step - loss: 0.0014 - val_loss: 0.0015\n",
            "Epoch 42/90\n",
            "13/13 [==============================] - 2s 185ms/step - loss: 0.0012 - val_loss: 0.0015\n",
            "Epoch 43/90\n",
            "13/13 [==============================] - 2s 188ms/step - loss: 0.0012 - val_loss: 0.0013\n",
            "Epoch 44/90\n",
            "13/13 [==============================] - 2s 185ms/step - loss: 0.0012 - val_loss: 0.0015\n",
            "Epoch 45/90\n",
            "13/13 [==============================] - 2s 192ms/step - loss: 0.0013 - val_loss: 0.0013\n",
            "Epoch 46/90\n",
            "13/13 [==============================] - 4s 270ms/step - loss: 0.0012 - val_loss: 0.0013\n",
            "Epoch 47/90\n",
            "13/13 [==============================] - 2s 186ms/step - loss: 0.0012 - val_loss: 0.0013\n",
            "Epoch 48/90\n",
            "13/13 [==============================] - 2s 186ms/step - loss: 0.0011 - val_loss: 0.0012\n",
            "Epoch 49/90\n",
            "13/13 [==============================] - 2s 185ms/step - loss: 0.0012 - val_loss: 0.0012\n",
            "Epoch 50/90\n",
            "13/13 [==============================] - 3s 227ms/step - loss: 0.0011 - val_loss: 0.0012\n",
            "Epoch 51/90\n",
            "13/13 [==============================] - 3s 238ms/step - loss: 0.0012 - val_loss: 0.0012\n",
            "Epoch 52/90\n",
            "13/13 [==============================] - 2s 185ms/step - loss: 0.0012 - val_loss: 0.0011\n",
            "Epoch 53/90\n",
            "13/13 [==============================] - 2s 186ms/step - loss: 0.0011 - val_loss: 0.0029\n",
            "Epoch 54/90\n",
            "13/13 [==============================] - 2s 186ms/step - loss: 0.0014 - val_loss: 0.0034\n",
            "Epoch 55/90\n",
            "13/13 [==============================] - 3s 257ms/step - loss: 0.0015 - val_loss: 0.0017\n",
            "Epoch 56/90\n",
            "13/13 [==============================] - 3s 205ms/step - loss: 0.0011 - val_loss: 0.0013\n",
            "Epoch 57/90\n",
            "13/13 [==============================] - 2s 188ms/step - loss: 0.0011 - val_loss: 0.0015\n",
            "Epoch 58/90\n",
            "13/13 [==============================] - 2s 185ms/step - loss: 0.0011 - val_loss: 0.0011\n",
            "Epoch 59/90\n",
            "13/13 [==============================] - 2s 186ms/step - loss: 0.0010 - val_loss: 0.0011\n",
            "Epoch 60/90\n",
            "13/13 [==============================] - 4s 293ms/step - loss: 9.9967e-04 - val_loss: 0.0013\n",
            "Epoch 61/90\n",
            "13/13 [==============================] - 2s 188ms/step - loss: 0.0011 - val_loss: 0.0048\n",
            "Epoch 62/90\n",
            "13/13 [==============================] - 2s 187ms/step - loss: 0.0016 - val_loss: 0.0014\n",
            "Epoch 63/90\n",
            "13/13 [==============================] - 2s 185ms/step - loss: 0.0010 - val_loss: 0.0010\n",
            "Epoch 64/90\n",
            "13/13 [==============================] - 2s 188ms/step - loss: 0.0011 - val_loss: 9.8879e-04\n",
            "Epoch 65/90\n",
            "13/13 [==============================] - 4s 288ms/step - loss: 0.0011 - val_loss: 9.6838e-04\n",
            "Epoch 66/90\n",
            "13/13 [==============================] - 2s 185ms/step - loss: 9.9106e-04 - val_loss: 9.7442e-04\n",
            "Epoch 67/90\n",
            "13/13 [==============================] - 2s 186ms/step - loss: 9.6789e-04 - val_loss: 0.0014\n",
            "Epoch 68/90\n",
            "13/13 [==============================] - 2s 186ms/step - loss: 0.0010 - val_loss: 0.0031\n",
            "Epoch 69/90\n",
            "13/13 [==============================] - 2s 191ms/step - loss: 0.0012 - val_loss: 0.0011\n",
            "Epoch 70/90\n",
            "13/13 [==============================] - 4s 273ms/step - loss: 0.0013 - val_loss: 0.0018\n",
            "Epoch 71/90\n",
            "13/13 [==============================] - 2s 188ms/step - loss: 0.0011 - val_loss: 0.0012\n",
            "Epoch 72/90\n",
            "13/13 [==============================] - 2s 187ms/step - loss: 9.5017e-04 - val_loss: 9.3288e-04\n",
            "Epoch 73/90\n",
            "13/13 [==============================] - 2s 185ms/step - loss: 9.7378e-04 - val_loss: 0.0013\n",
            "Epoch 74/90\n",
            "13/13 [==============================] - 3s 229ms/step - loss: 9.6048e-04 - val_loss: 9.1051e-04\n",
            "Epoch 75/90\n",
            "13/13 [==============================] - 3s 235ms/step - loss: 8.7688e-04 - val_loss: 0.0011\n",
            "Epoch 76/90\n",
            "13/13 [==============================] - 2s 186ms/step - loss: 8.6717e-04 - val_loss: 8.5265e-04\n",
            "Epoch 77/90\n",
            "13/13 [==============================] - 2s 186ms/step - loss: 8.3544e-04 - val_loss: 0.0018\n",
            "Epoch 78/90\n",
            "13/13 [==============================] - 2s 185ms/step - loss: 0.0011 - val_loss: 0.0023\n",
            "Epoch 79/90\n",
            "13/13 [==============================] - 3s 260ms/step - loss: 0.0011 - val_loss: 8.6859e-04\n",
            "Epoch 80/90\n",
            "13/13 [==============================] - 3s 211ms/step - loss: 9.4538e-04 - val_loss: 8.1672e-04\n",
            "Epoch 81/90\n",
            "13/13 [==============================] - 2s 186ms/step - loss: 9.0947e-04 - val_loss: 0.0028\n",
            "Epoch 82/90\n",
            "13/13 [==============================] - 2s 186ms/step - loss: 0.0015 - val_loss: 0.0024\n",
            "Epoch 83/90\n",
            "13/13 [==============================] - 2s 187ms/step - loss: 0.0012 - val_loss: 8.1304e-04\n",
            "Epoch 84/90\n",
            "13/13 [==============================] - 3s 272ms/step - loss: 8.5826e-04 - val_loss: 8.3224e-04\n",
            "Epoch 85/90\n",
            "13/13 [==============================] - 3s 186ms/step - loss: 9.0293e-04 - val_loss: 7.7687e-04\n",
            "Epoch 86/90\n",
            "13/13 [==============================] - 2s 186ms/step - loss: 8.9906e-04 - val_loss: 7.4926e-04\n",
            "Epoch 87/90\n",
            "13/13 [==============================] - 2s 186ms/step - loss: 7.6935e-04 - val_loss: 0.0012\n",
            "Epoch 88/90\n",
            "13/13 [==============================] - 2s 187ms/step - loss: 7.9402e-04 - val_loss: 9.3550e-04\n",
            "Epoch 89/90\n",
            "13/13 [==============================] - 4s 283ms/step - loss: 7.7379e-04 - val_loss: 7.2204e-04\n",
            "Epoch 90/90\n",
            "13/13 [==============================] - 2s 186ms/step - loss: 7.3994e-04 - val_loss: 7.8886e-04\n"
          ]
        },
        {
          "output_type": "execute_result",
          "data": {
            "text/plain": [
              "<keras.callbacks.History at 0x7d1480227610>"
            ]
          },
          "metadata": {},
          "execution_count": 27
        }
      ],
      "source": [
        "model.fit(X_train,Y_train,validation_data=(X_test,Y_test),epochs=90,batch_size=64,verbose=1)"
      ]
    },
    {
      "cell_type": "code",
      "execution_count": 28,
      "metadata": {
        "colab": {
          "base_uri": "https://localhost:8080/"
        },
        "id": "TlurjZ_E74EE",
        "outputId": "853e82eb-3643-484f-b1a2-1d59d52e120d"
      },
      "outputs": [
        {
          "output_type": "stream",
          "name": "stdout",
          "text": [
            "25/25 [==============================] - 2s 37ms/step\n",
            "9/9 [==============================] - 0s 36ms/step\n"
          ]
        }
      ],
      "source": [
        "train_pred=model.predict(X_train)\n",
        "test_pred=model.predict(X_test)"
      ]
    },
    {
      "cell_type": "code",
      "execution_count": 29,
      "metadata": {
        "colab": {
          "base_uri": "https://localhost:8080/"
        },
        "id": "NfskDTAurqtu",
        "outputId": "d8b2d13f-1c54-467c-87dc-a8f89bc55836"
      },
      "outputs": [
        {
          "output_type": "execute_result",
          "data": {
            "text/plain": [
              "(array([[0.13302131],\n",
              "        [0.12759157],\n",
              "        [0.12294701],\n",
              "        [0.11962819],\n",
              "        [0.11836109]], dtype=float32),\n",
              " array([0.10943003, 0.10772592, 0.11026971, 0.11901213, 0.12222259]),\n",
              " array([[0.95887274],\n",
              "        [0.9455457 ],\n",
              "        [0.9263055 ],\n",
              "        [0.90469843],\n",
              "        [0.8826625 ]], dtype=float32),\n",
              " array([0.90533485, 0.8877657 , 0.871711  , 0.85338437, 0.86853027]))"
            ]
          },
          "metadata": {},
          "execution_count": 29
        }
      ],
      "source": [
        "train_pred[:5],Y_train[:5],test_pred[:5],Y_test[:5]"
      ]
    },
    {
      "cell_type": "code",
      "execution_count": 30,
      "metadata": {
        "id": "f2CF-iV2695-"
      },
      "outputs": [],
      "source": [
        "Y_train=Y_train.reshape(Y_train.shape[0],1)\n",
        "Y_test=Y_test.reshape(Y_test.shape[0],1)"
      ]
    },
    {
      "cell_type": "code",
      "execution_count": 31,
      "metadata": {
        "colab": {
          "base_uri": "https://localhost:8080/"
        },
        "id": "AtbKCL9G9pqw",
        "outputId": "6d63767a-fe83-45f8-983d-a938d396bc0f"
      },
      "outputs": [
        {
          "output_type": "execute_result",
          "data": {
            "text/plain": [
              "((772, 90, 1), (279, 90, 1), (772, 1), (772, 1), (279, 1), (279, 1))"
            ]
          },
          "metadata": {},
          "execution_count": 31
        }
      ],
      "source": [
        "X_train.shape,X_test.shape,Y_train.shape,train_pred.shape,Y_test.shape,test_pred.shape"
      ]
    },
    {
      "cell_type": "code",
      "execution_count": 32,
      "metadata": {
        "id": "7yVXx7TX83nz"
      },
      "outputs": [],
      "source": [
        "train_pred=scaler.inverse_transform(train_pred)\n",
        "test_pred=scaler.inverse_transform(test_pred)\n",
        "\n",
        "Y_train=scaler.inverse_transform(Y_train)\n",
        "Y_test=scaler.inverse_transform(Y_test)"
      ]
    },
    {
      "cell_type": "code",
      "execution_count": 33,
      "metadata": {
        "colab": {
          "base_uri": "https://localhost:8080/"
        },
        "id": "OBvSglJj_hnZ",
        "outputId": "2fa85cd8-b59a-4216-85f8-8aa186b9341b"
      },
      "outputs": [
        {
          "output_type": "execute_result",
          "data": {
            "text/plain": [
              "((772, 1), (772, 1), (279, 1), (279, 1))"
            ]
          },
          "metadata": {},
          "execution_count": 33
        }
      ],
      "source": [
        "Y_train.shape,train_pred.shape,Y_test.shape,test_pred.shape"
      ]
    },
    {
      "cell_type": "code",
      "execution_count": 34,
      "metadata": {
        "colab": {
          "base_uri": "https://localhost:8080/"
        },
        "id": "YZX1-mtf-o4d",
        "outputId": "05e985cf-f71f-4de1-b692-5a8de5585a9a"
      },
      "outputs": [
        {
          "output_type": "execute_result",
          "data": {
            "text/plain": [
              "55.663620994470605"
            ]
          },
          "metadata": {},
          "execution_count": 34
        }
      ],
      "source": [
        "#RMSE\n",
        "import math\n",
        "from sklearn.metrics import mean_squared_error\n",
        "math.sqrt(mean_squared_error(Y_train,train_pred))"
      ]
    },
    {
      "cell_type": "code",
      "execution_count": 35,
      "metadata": {
        "colab": {
          "base_uri": "https://localhost:8080/"
        },
        "id": "VI_6Ymd3_Kmg",
        "outputId": "2f84bd2a-690b-4d29-9852-2e884cfec6e0"
      },
      "outputs": [
        {
          "output_type": "execute_result",
          "data": {
            "text/plain": [
              "55.46518259347773"
            ]
          },
          "metadata": {},
          "execution_count": 35
        }
      ],
      "source": [
        "math.sqrt(mean_squared_error(Y_test,test_pred))"
      ]
    },
    {
      "cell_type": "code",
      "execution_count": 36,
      "metadata": {
        "id": "mCeIShsU_OFV"
      },
      "outputs": [],
      "source": [
        "look_back=90\n",
        "#Shift train predictions for plotting\n",
        "trainPredPlot=np.empty_like(df)\n",
        "trainPredPlot[:,:]=np.nan\n",
        "trainPredPlot[look_back:len(train_pred)+look_back,:]=train_pred\n",
        "\n",
        "#shift test predictions for plotting\n",
        "testPredPlot=np.empty_like(df)\n",
        "testPredPlot[:,:]=np.nan\n",
        "testPredPlot[len(train_pred)+(look_back*2)+2:len(df)-1, :]=test_pred"
      ]
    },
    {
      "cell_type": "code",
      "source": [
        "#plot baseline and predictions\n",
        "plt.plot((df))\n",
        "plt.plot(trainPredPlot)\n",
        "plt.plot(testPredPlot)\n",
        "plt.show()"
      ],
      "metadata": {
        "colab": {
          "base_uri": "https://localhost:8080/",
          "height": 291
        },
        "id": "51H7uX1dC-f7",
        "outputId": "460c9927-5423-43d4-e537-327518ab7e2a"
      },
      "execution_count": 37,
      "outputs": [
        {
          "output_type": "display_data",
          "data": {
            "text/plain": [
              "<Figure size 700x300 with 1 Axes>"
            ],
            "image/png": "[encoded data removed]"
          },
          "metadata": {}
        }
      ]
    },
    {
      "cell_type": "code",
      "execution_count": 38,
      "metadata": {
        "id": "LHjYDGu2U3VH"
      },
      "outputs": [],
      "source": [
        "x_input=test_data[280:].reshape(1,-1)"
      ]
    },
    {
      "cell_type": "code",
      "source": [
        "temp_input=(x_input).tolist()[0]"
      ],
      "metadata": {
        "id": "s8nj_IVc-erv"
      },
      "execution_count": 39,
      "outputs": []
    },
    {
      "cell_type": "code",
      "source": [
        "len(temp_input)"
      ],
      "metadata": {
        "colab": {
          "base_uri": "https://localhost:8080/"
        },
        "id": "NAvXjVvHMvKn",
        "outputId": "255d7852-f347-4e1e-bc7a-5b1d0052f4d6"
      },
      "execution_count": 40,
      "outputs": [
        {
          "output_type": "execute_result",
          "data": {
            "text/plain": [
              "90"
            ]
          },
          "metadata": {},
          "execution_count": 40
        }
      ]
    },
    {
      "cell_type": "code",
      "source": [
        "len(temp_input[1:])"
      ],
      "metadata": {
        "colab": {
          "base_uri": "https://localhost:8080/"
        },
        "id": "LYF4c2hCMXxK",
        "outputId": "978858f0-999c-427c-bcb9-1e2536580631"
      },
      "execution_count": 41,
      "outputs": [
        {
          "output_type": "execute_result",
          "data": {
            "text/plain": [
              "89"
            ]
          },
          "metadata": {},
          "execution_count": 41
        }
      ]
    },
    {
      "cell_type": "code",
      "source": [
        "from numpy import array\n",
        "lst_output =[]\n",
        "n_steps=90\n",
        "i=0\n",
        "while (i<30):\n",
        "  if (len(temp_input)>90):\n",
        "    x_input=np.array(temp_input[1:])\n",
        "    print(\"{} day input {}\". format(i,x_input))\n",
        "    x_input=x_input.reshape(1,-1)\n",
        "    x_input=x_input.reshape((1,n_steps,1))\n",
        "    yhat=model.predict(x_input,verbose=0)\n",
        "    print(\"{} day output {}\".format(i,yhat))\n",
        "    temp_input.extend(yhat[0].tolist())\n",
        "    temp_input=temp_input[1:]\n",
        "    lst_output.extend(yhat.tolist())\n",
        "    i+=1\n",
        "\n",
        "  else:\n",
        "    x_input=x_input.reshape((1,n_steps,1))\n",
        "    yhat=model.predict(x_input,verbose=0)\n",
        "    print(yhat[0])\n",
        "    temp_input.extend(yhat[0].tolist())\n",
        "    print(len(temp_input))\n",
        "    lst_output.extend(yhat.tolist())\n",
        "    i+=1\n",
        "\n",
        "print(lst_output)"
      ],
      "metadata": {
        "colab": {
          "base_uri": "https://localhost:8080/"
        },
        "id": "JrfjLI0z-jFc",
        "outputId": "396e5b87-843e-4c6f-87f9-5d1fa987a5f3"
      },
      "execution_count": 42,
      "outputs": [
        {
          "output_type": "stream",
          "name": "stdout",
          "text": [
            "[0.8190058]\n",
            "91\n",
            "1 day input [0.68667483 0.67561029 0.71027226 0.71376638 0.6991825  0.6766484\n",
            " 0.69399206 0.69928375 0.69254882 0.74133897 0.74154148 0.7387058\n",
            " 0.74660532 0.73819942 0.74402283 0.74923849 0.75372004 0.75977131\n",
            " 0.74604837 0.7519477  0.74893474 0.75042854 0.754986   0.76412626\n",
            " 0.75706223 0.76463264 0.78663501 0.79704123 0.7864325  0.80056057\n",
            " 0.79739567 0.8126631  0.81653701 0.82517089 0.8169168  0.81896768\n",
            " 0.82144892 0.80349762 0.79615505 0.79349654 0.79749692 0.80410526\n",
            " 0.80387741 0.79663609 0.79648415 0.83018404 0.83732411 0.83699488\n",
            " 0.81165033 0.80828293 0.80420651 0.81537231 0.81643576 0.82595568\n",
            " 0.82671526 0.81775229 0.81886631 0.8374507  0.85314861 0.85350305\n",
            " 0.86608662 0.85312327 0.85580713 0.85945307 0.84486918 0.83436171\n",
            " 0.82463916 0.82509486 0.82509486 0.85233835 0.88548116 0.87183413\n",
            " 0.869682   0.89715334 0.89454551 0.94591815 0.96093239 0.96247689\n",
            " 0.94994388 0.94877917 0.97713668 0.98916331 1.         0.88758273\n",
            " 0.84651493 0.82051205 0.81970191 0.84015978 0.82825976 0.81900579]\n",
            "1 day output [[0.8124553]]\n",
            "2 day input [0.67561029 0.71027226 0.71376638 0.6991825  0.6766484  0.69399206\n",
            " 0.69928375 0.69254882 0.74133897 0.74154148 0.7387058  0.74660532\n",
            " 0.73819942 0.74402283 0.74923849 0.75372004 0.75977131 0.74604837\n",
            " 0.7519477  0.74893474 0.75042854 0.754986   0.76412626 0.75706223\n",
            " 0.76463264 0.78663501 0.79704123 0.7864325  0.80056057 0.79739567\n",
            " 0.8126631  0.81653701 0.82517089 0.8169168  0.81896768 0.82144892\n",
            " 0.80349762 0.79615505 0.79349654 0.79749692 0.80410526 0.80387741\n",
            " 0.79663609 0.79648415 0.83018404 0.83732411 0.83699488 0.81165033\n",
            " 0.80828293 0.80420651 0.81537231 0.81643576 0.82595568 0.82671526\n",
            " 0.81775229 0.81886631 0.8374507  0.85314861 0.85350305 0.86608662\n",
            " 0.85312327 0.85580713 0.85945307 0.84486918 0.83436171 0.82463916\n",
            " 0.82509486 0.82509486 0.85233835 0.88548116 0.87183413 0.869682\n",
            " 0.89715334 0.89454551 0.94591815 0.96093239 0.96247689 0.94994388\n",
            " 0.94877917 0.97713668 0.98916331 1.         0.88758273 0.84651493\n",
            " 0.82051205 0.81970191 0.84015978 0.82825976 0.81900579 0.8124553 ]\n",
            "2 day output [[0.80950093]]\n",
            "3 day input [0.71027226 0.71376638 0.6991825  0.6766484  0.69399206 0.69928375\n",
            " 0.69254882 0.74133897 0.74154148 0.7387058  0.74660532 0.73819942\n",
            " 0.74402283 0.74923849 0.75372004 0.75977131 0.74604837 0.7519477\n",
            " 0.74893474 0.75042854 0.754986   0.76412626 0.75706223 0.76463264\n",
            " 0.78663501 0.79704123 0.7864325  0.80056057 0.79739567 0.8126631\n",
            " 0.81653701 0.82517089 0.8169168  0.81896768 0.82144892 0.80349762\n",
            " 0.79615505 0.79349654 0.79749692 0.80410526 0.80387741 0.79663609\n",
            " 0.79648415 0.83018404 0.83732411 0.83699488 0.81165033 0.80828293\n",
            " 0.80420651 0.81537231 0.81643576 0.82595568 0.82671526 0.81775229\n",
            " 0.81886631 0.8374507  0.85314861 0.85350305 0.86608662 0.85312327\n",
            " 0.85580713 0.85945307 0.84486918 0.83436171 0.82463916 0.82509486\n",
            " 0.82509486 0.85233835 0.88548116 0.87183413 0.869682   0.89715334\n",
            " 0.89454551 0.94591815 0.96093239 0.96247689 0.94994388 0.94877917\n",
            " 0.97713668 0.98916331 1.         0.88758273 0.84651493 0.82051205\n",
            " 0.81970191 0.84015978 0.82825976 0.81900579 0.8124553  0.80950093]\n",
            "3 day output [[0.808753]]\n",
            "4 day input [0.71376638 0.6991825  0.6766484  0.69399206 0.69928375 0.69254882\n",
            " 0.74133897 0.74154148 0.7387058  0.74660532 0.73819942 0.74402283\n",
            " 0.74923849 0.75372004 0.75977131 0.74604837 0.7519477  0.74893474\n",
            " 0.75042854 0.754986   0.76412626 0.75706223 0.76463264 0.78663501\n",
            " 0.79704123 0.7864325  0.80056057 0.79739567 0.8126631  0.81653701\n",
            " 0.82517089 0.8169168  0.81896768 0.82144892 0.80349762 0.79615505\n",
            " 0.79349654 0.79749692 0.80410526 0.80387741 0.79663609 0.79648415\n",
            " 0.83018404 0.83732411 0.83699488 0.81165033 0.80828293 0.80420651\n",
            " 0.81537231 0.81643576 0.82595568 0.82671526 0.81775229 0.81886631\n",
            " 0.8374507  0.85314861 0.85350305 0.86608662 0.85312327 0.85580713\n",
            " 0.85945307 0.84486918 0.83436171 0.82463916 0.82509486 0.82509486\n",
            " 0.85233835 0.88548116 0.87183413 0.869682   0.89715334 0.89454551\n",
            " 0.94591815 0.96093239 0.96247689 0.94994388 0.94877917 0.97713668\n",
            " 0.98916331 1.         0.88758273 0.84651493 0.82051205 0.81970191\n",
            " 0.84015978 0.82825976 0.81900579 0.8124553  0.80950093 0.80875301]\n",
            "4 day output [[0.8095304]]\n",
            "5 day input [0.6991825  0.6766484  0.69399206 0.69928375 0.69254882 0.74133897\n",
            " 0.74154148 0.7387058  0.74660532 0.73819942 0.74402283 0.74923849\n",
            " 0.75372004 0.75977131 0.74604837 0.7519477  0.74893474 0.75042854\n",
            " 0.754986   0.76412626 0.75706223 0.76463264 0.78663501 0.79704123\n",
            " 0.7864325  0.80056057 0.79739567 0.8126631  0.81653701 0.82517089\n",
            " 0.8169168  0.81896768 0.82144892 0.80349762 0.79615505 0.79349654\n",
            " 0.79749692 0.80410526 0.80387741 0.79663609 0.79648415 0.83018404\n",
            " 0.83732411 0.83699488 0.81165033 0.80828293 0.80420651 0.81537231\n",
            " 0.81643576 0.82595568 0.82671526 0.81775229 0.81886631 0.8374507\n",
            " 0.85314861 0.85350305 0.86608662 0.85312327 0.85580713 0.85945307\n",
            " 0.84486918 0.83436171 0.82463916 0.82509486 0.82509486 0.85233835\n",
            " 0.88548116 0.87183413 0.869682   0.89715334 0.89454551 0.94591815\n",
            " 0.96093239 0.96247689 0.94994388 0.94877917 0.97713668 0.98916331\n",
            " 1.         0.88758273 0.84651493 0.82051205 0.81970191 0.84015978\n",
            " 0.82825976 0.81900579 0.8124553  0.80950093 0.80875301 0.80953038]\n",
            "5 day output [[0.8114678]]\n",
            "6 day input [0.6766484  0.69399206 0.69928375 0.69254882 0.74133897 0.74154148\n",
            " 0.7387058  0.74660532 0.73819942 0.74402283 0.74923849 0.75372004\n",
            " 0.75977131 0.74604837 0.7519477  0.74893474 0.75042854 0.754986\n",
            " 0.76412626 0.75706223 0.76463264 0.78663501 0.79704123 0.7864325\n",
            " 0.80056057 0.79739567 0.8126631  0.81653701 0.82517089 0.8169168\n",
            " 0.81896768 0.82144892 0.80349762 0.79615505 0.79349654 0.79749692\n",
            " 0.80410526 0.80387741 0.79663609 0.79648415 0.83018404 0.83732411\n",
            " 0.83699488 0.81165033 0.80828293 0.80420651 0.81537231 0.81643576\n",
            " 0.82595568 0.82671526 0.81775229 0.81886631 0.8374507  0.85314861\n",
            " 0.85350305 0.86608662 0.85312327 0.85580713 0.85945307 0.84486918\n",
            " 0.83436171 0.82463916 0.82509486 0.82509486 0.85233835 0.88548116\n",
            " 0.87183413 0.869682   0.89715334 0.89454551 0.94591815 0.96093239\n",
            " 0.96247689 0.94994388 0.94877917 0.97713668 0.98916331 1.\n",
            " 0.88758273 0.84651493 0.82051205 0.81970191 0.84015978 0.82825976\n",
            " 0.81900579 0.8124553  0.80950093 0.80875301 0.80953038 0.81146783]\n",
            "6 day output [[0.81432545]]\n",
            "7 day input [0.69399206 0.69928375 0.69254882 0.74133897 0.74154148 0.7387058\n",
            " 0.74660532 0.73819942 0.74402283 0.74923849 0.75372004 0.75977131\n",
            " 0.74604837 0.7519477  0.74893474 0.75042854 0.754986   0.76412626\n",
            " 0.75706223 0.76463264 0.78663501 0.79704123 0.7864325  0.80056057\n",
            " 0.79739567 0.8126631  0.81653701 0.82517089 0.8169168  0.81896768\n",
            " 0.82144892 0.80349762 0.79615505 0.79349654 0.79749692 0.80410526\n",
            " 0.80387741 0.79663609 0.79648415 0.83018404 0.83732411 0.83699488\n",
            " 0.81165033 0.80828293 0.80420651 0.81537231 0.81643576 0.82595568\n",
            " 0.82671526 0.81775229 0.81886631 0.8374507  0.85314861 0.85350305\n",
            " 0.86608662 0.85312327 0.85580713 0.85945307 0.84486918 0.83436171\n",
            " 0.82463916 0.82509486 0.82509486 0.85233835 0.88548116 0.87183413\n",
            " 0.869682   0.89715334 0.89454551 0.94591815 0.96093239 0.96247689\n",
            " 0.94994388 0.94877917 0.97713668 0.98916331 1.         0.88758273\n",
            " 0.84651493 0.82051205 0.81970191 0.84015978 0.82825976 0.81900579\n",
            " 0.8124553  0.80950093 0.80875301 0.80953038 0.81146783 0.81432545]\n",
            "7 day output [[0.81791115]]\n",
            "8 day input [0.69928375 0.69254882 0.74133897 0.74154148 0.7387058  0.74660532\n",
            " 0.73819942 0.74402283 0.74923849 0.75372004 0.75977131 0.74604837\n",
            " 0.7519477  0.74893474 0.75042854 0.754986   0.76412626 0.75706223\n",
            " 0.76463264 0.78663501 0.79704123 0.7864325  0.80056057 0.79739567\n",
            " 0.8126631  0.81653701 0.82517089 0.8169168  0.81896768 0.82144892\n",
            " 0.80349762 0.79615505 0.79349654 0.79749692 0.80410526 0.80387741\n",
            " 0.79663609 0.79648415 0.83018404 0.83732411 0.83699488 0.81165033\n",
            " 0.80828293 0.80420651 0.81537231 0.81643576 0.82595568 0.82671526\n",
            " 0.81775229 0.81886631 0.8374507  0.85314861 0.85350305 0.86608662\n",
            " 0.85312327 0.85580713 0.85945307 0.84486918 0.83436171 0.82463916\n",
            " 0.82509486 0.82509486 0.85233835 0.88548116 0.87183413 0.869682\n",
            " 0.89715334 0.89454551 0.94591815 0.96093239 0.96247689 0.94994388\n",
            " 0.94877917 0.97713668 0.98916331 1.         0.88758273 0.84651493\n",
            " 0.82051205 0.81970191 0.84015978 0.82825976 0.81900579 0.8124553\n",
            " 0.80950093 0.80875301 0.80953038 0.81146783 0.81432545 0.81791115]\n",
            "8 day output [[0.8220534]]\n",
            "9 day input [0.69254882 0.74133897 0.74154148 0.7387058  0.74660532 0.73819942\n",
            " 0.74402283 0.74923849 0.75372004 0.75977131 0.74604837 0.7519477\n",
            " 0.74893474 0.75042854 0.754986   0.76412626 0.75706223 0.76463264\n",
            " 0.78663501 0.79704123 0.7864325  0.80056057 0.79739567 0.8126631\n",
            " 0.81653701 0.82517089 0.8169168  0.81896768 0.82144892 0.80349762\n",
            " 0.79615505 0.79349654 0.79749692 0.80410526 0.80387741 0.79663609\n",
            " 0.79648415 0.83018404 0.83732411 0.83699488 0.81165033 0.80828293\n",
            " 0.80420651 0.81537231 0.81643576 0.82595568 0.82671526 0.81775229\n",
            " 0.81886631 0.8374507  0.85314861 0.85350305 0.86608662 0.85312327\n",
            " 0.85580713 0.85945307 0.84486918 0.83436171 0.82463916 0.82509486\n",
            " 0.82509486 0.85233835 0.88548116 0.87183413 0.869682   0.89715334\n",
            " 0.89454551 0.94591815 0.96093239 0.96247689 0.94994388 0.94877917\n",
            " 0.97713668 0.98916331 1.         0.88758273 0.84651493 0.82051205\n",
            " 0.81970191 0.84015978 0.82825976 0.81900579 0.8124553  0.80950093\n",
            " 0.80875301 0.80953038 0.81146783 0.81432545 0.81791115 0.82205337]\n",
            "9 day output [[0.8265947]]\n",
            "10 day input [0.74133897 0.74154148 0.7387058  0.74660532 0.73819942 0.74402283\n",
            " 0.74923849 0.75372004 0.75977131 0.74604837 0.7519477  0.74893474\n",
            " 0.75042854 0.754986   0.76412626 0.75706223 0.76463264 0.78663501\n",
            " 0.79704123 0.7864325  0.80056057 0.79739567 0.8126631  0.81653701\n",
            " 0.82517089 0.8169168  0.81896768 0.82144892 0.80349762 0.79615505\n",
            " 0.79349654 0.79749692 0.80410526 0.80387741 0.79663609 0.79648415\n",
            " 0.83018404 0.83732411 0.83699488 0.81165033 0.80828293 0.80420651\n",
            " 0.81537231 0.81643576 0.82595568 0.82671526 0.81775229 0.81886631\n",
            " 0.8374507  0.85314861 0.85350305 0.86608662 0.85312327 0.85580713\n",
            " 0.85945307 0.84486918 0.83436171 0.82463916 0.82509486 0.82509486\n",
            " 0.85233835 0.88548116 0.87183413 0.869682   0.89715334 0.89454551\n",
            " 0.94591815 0.96093239 0.96247689 0.94994388 0.94877917 0.97713668\n",
            " 0.98916331 1.         0.88758273 0.84651493 0.82051205 0.81970191\n",
            " 0.84015978 0.82825976 0.81900579 0.8124553  0.80950093 0.80875301\n",
            " 0.80953038 0.81146783 0.81432545 0.81791115 0.82205337 0.82659471]\n",
            "10 day output [[0.83139414]]\n",
            "11 day input [0.74154148 0.7387058  0.74660532 0.73819942 0.74402283 0.74923849\n",
            " 0.75372004 0.75977131 0.74604837 0.7519477  0.74893474 0.75042854\n",
            " 0.754986   0.76412626 0.75706223 0.76463264 0.78663501 0.79704123\n",
            " 0.7864325  0.80056057 0.79739567 0.8126631  0.81653701 0.82517089\n",
            " 0.8169168  0.81896768 0.82144892 0.80349762 0.79615505 0.79349654\n",
            " 0.79749692 0.80410526 0.80387741 0.79663609 0.79648415 0.83018404\n",
            " 0.83732411 0.83699488 0.81165033 0.80828293 0.80420651 0.81537231\n",
            " 0.81643576 0.82595568 0.82671526 0.81775229 0.81886631 0.8374507\n",
            " 0.85314861 0.85350305 0.86608662 0.85312327 0.85580713 0.85945307\n",
            " 0.84486918 0.83436171 0.82463916 0.82509486 0.82509486 0.85233835\n",
            " 0.88548116 0.87183413 0.869682   0.89715334 0.89454551 0.94591815\n",
            " 0.96093239 0.96247689 0.94994388 0.94877917 0.97713668 0.98916331\n",
            " 1.         0.88758273 0.84651493 0.82051205 0.81970191 0.84015978\n",
            " 0.82825976 0.81900579 0.8124553  0.80950093 0.80875301 0.80953038\n",
            " 0.81146783 0.81432545 0.81791115 0.82205337 0.82659471 0.83139414]\n",
            "11 day output [[0.8363269]]\n",
            "12 day input [0.7387058  0.74660532 0.73819942 0.74402283 0.74923849 0.75372004\n",
            " 0.75977131 0.74604837 0.7519477  0.74893474 0.75042854 0.754986\n",
            " 0.76412626 0.75706223 0.76463264 0.78663501 0.79704123 0.7864325\n",
            " 0.80056057 0.79739567 0.8126631  0.81653701 0.82517089 0.8169168\n",
            " 0.81896768 0.82144892 0.80349762 0.79615505 0.79349654 0.79749692\n",
            " 0.80410526 0.80387741 0.79663609 0.79648415 0.83018404 0.83732411\n",
            " 0.83699488 0.81165033 0.80828293 0.80420651 0.81537231 0.81643576\n",
            " 0.82595568 0.82671526 0.81775229 0.81886631 0.8374507  0.85314861\n",
            " 0.85350305 0.86608662 0.85312327 0.85580713 0.85945307 0.84486918\n",
            " 0.83436171 0.82463916 0.82509486 0.82509486 0.85233835 0.88548116\n",
            " 0.87183413 0.869682   0.89715334 0.89454551 0.94591815 0.96093239\n",
            " 0.96247689 0.94994388 0.94877917 0.97713668 0.98916331 1.\n",
            " 0.88758273 0.84651493 0.82051205 0.81970191 0.84015978 0.82825976\n",
            " 0.81900579 0.8124553  0.80950093 0.80875301 0.80953038 0.81146783\n",
            " 0.81432545 0.81791115 0.82205337 0.82659471 0.83139414 0.8363269 ]\n",
            "12 day output [[0.84128624]]\n",
            "13 day input [0.74660532 0.73819942 0.74402283 0.74923849 0.75372004 0.75977131\n",
            " 0.74604837 0.7519477  0.74893474 0.75042854 0.754986   0.76412626\n",
            " 0.75706223 0.76463264 0.78663501 0.79704123 0.7864325  0.80056057\n",
            " 0.79739567 0.8126631  0.81653701 0.82517089 0.8169168  0.81896768\n",
            " 0.82144892 0.80349762 0.79615505 0.79349654 0.79749692 0.80410526\n",
            " 0.80387741 0.79663609 0.79648415 0.83018404 0.83732411 0.83699488\n",
            " 0.81165033 0.80828293 0.80420651 0.81537231 0.81643576 0.82595568\n",
            " 0.82671526 0.81775229 0.81886631 0.8374507  0.85314861 0.85350305\n",
            " 0.86608662 0.85312327 0.85580713 0.85945307 0.84486918 0.83436171\n",
            " 0.82463916 0.82509486 0.82509486 0.85233835 0.88548116 0.87183413\n",
            " 0.869682   0.89715334 0.89454551 0.94591815 0.96093239 0.96247689\n",
            " 0.94994388 0.94877917 0.97713668 0.98916331 1.         0.88758273\n",
            " 0.84651493 0.82051205 0.81970191 0.84015978 0.82825976 0.81900579\n",
            " 0.8124553  0.80950093 0.80875301 0.80953038 0.81146783 0.81432545\n",
            " 0.81791115 0.82205337 0.82659471 0.83139414 0.8363269  0.84128624]\n",
            "13 day output [[0.84618354]]\n",
            "14 day input [0.73819942 0.74402283 0.74923849 0.75372004 0.75977131 0.74604837\n",
            " 0.7519477  0.74893474 0.75042854 0.754986   0.76412626 0.75706223\n",
            " 0.76463264 0.78663501 0.79704123 0.7864325  0.80056057 0.79739567\n",
            " 0.8126631  0.81653701 0.82517089 0.8169168  0.81896768 0.82144892\n",
            " 0.80349762 0.79615505 0.79349654 0.79749692 0.80410526 0.80387741\n",
            " 0.79663609 0.79648415 0.83018404 0.83732411 0.83699488 0.81165033\n",
            " 0.80828293 0.80420651 0.81537231 0.81643576 0.82595568 0.82671526\n",
            " 0.81775229 0.81886631 0.8374507  0.85314861 0.85350305 0.86608662\n",
            " 0.85312327 0.85580713 0.85945307 0.84486918 0.83436171 0.82463916\n",
            " 0.82509486 0.82509486 0.85233835 0.88548116 0.87183413 0.869682\n",
            " 0.89715334 0.89454551 0.94591815 0.96093239 0.96247689 0.94994388\n",
            " 0.94877917 0.97713668 0.98916331 1.         0.88758273 0.84651493\n",
            " 0.82051205 0.81970191 0.84015978 0.82825976 0.81900579 0.8124553\n",
            " 0.80950093 0.80875301 0.80953038 0.81146783 0.81432545 0.81791115\n",
            " 0.82205337 0.82659471 0.83139414 0.8363269  0.84128624 0.84618354]\n",
            "14 day output [[0.8509483]]\n",
            "15 day input [0.74402283 0.74923849 0.75372004 0.75977131 0.74604837 0.7519477\n",
            " 0.74893474 0.75042854 0.754986   0.76412626 0.75706223 0.76463264\n",
            " 0.78663501 0.79704123 0.7864325  0.80056057 0.79739567 0.8126631\n",
            " 0.81653701 0.82517089 0.8169168  0.81896768 0.82144892 0.80349762\n",
            " 0.79615505 0.79349654 0.79749692 0.80410526 0.80387741 0.79663609\n",
            " 0.79648415 0.83018404 0.83732411 0.83699488 0.81165033 0.80828293\n",
            " 0.80420651 0.81537231 0.81643576 0.82595568 0.82671526 0.81775229\n",
            " 0.81886631 0.8374507  0.85314861 0.85350305 0.86608662 0.85312327\n",
            " 0.85580713 0.85945307 0.84486918 0.83436171 0.82463916 0.82509486\n",
            " 0.82509486 0.85233835 0.88548116 0.87183413 0.869682   0.89715334\n",
            " 0.89454551 0.94591815 0.96093239 0.96247689 0.94994388 0.94877917\n",
            " 0.97713668 0.98916331 1.         0.88758273 0.84651493 0.82051205\n",
            " 0.81970191 0.84015978 0.82825976 0.81900579 0.8124553  0.80950093\n",
            " 0.80875301 0.80953038 0.81146783 0.81432545 0.81791115 0.82205337\n",
            " 0.82659471 0.83139414 0.8363269  0.84128624 0.84618354 0.85094827]\n",
            "15 day output [[0.8555252]]\n",
            "16 day input [0.74923849 0.75372004 0.75977131 0.74604837 0.7519477  0.74893474\n",
            " 0.75042854 0.754986   0.76412626 0.75706223 0.76463264 0.78663501\n",
            " 0.79704123 0.7864325  0.80056057 0.79739567 0.8126631  0.81653701\n",
            " 0.82517089 0.8169168  0.81896768 0.82144892 0.80349762 0.79615505\n",
            " 0.79349654 0.79749692 0.80410526 0.80387741 0.79663609 0.79648415\n",
            " 0.83018404 0.83732411 0.83699488 0.81165033 0.80828293 0.80420651\n",
            " 0.81537231 0.81643576 0.82595568 0.82671526 0.81775229 0.81886631\n",
            " 0.8374507  0.85314861 0.85350305 0.86608662 0.85312327 0.85580713\n",
            " 0.85945307 0.84486918 0.83436171 0.82463916 0.82509486 0.82509486\n",
            " 0.85233835 0.88548116 0.87183413 0.869682   0.89715334 0.89454551\n",
            " 0.94591815 0.96093239 0.96247689 0.94994388 0.94877917 0.97713668\n",
            " 0.98916331 1.         0.88758273 0.84651493 0.82051205 0.81970191\n",
            " 0.84015978 0.82825976 0.81900579 0.8124553  0.80950093 0.80875301\n",
            " 0.80953038 0.81146783 0.81432545 0.81791115 0.82205337 0.82659471\n",
            " 0.83139414 0.8363269  0.84128624 0.84618354 0.85094827 0.8555252 ]\n",
            "16 day output [[0.859875]]\n",
            "17 day input [0.75372004 0.75977131 0.74604837 0.7519477  0.74893474 0.75042854\n",
            " 0.754986   0.76412626 0.75706223 0.76463264 0.78663501 0.79704123\n",
            " 0.7864325  0.80056057 0.79739567 0.8126631  0.81653701 0.82517089\n",
            " 0.8169168  0.81896768 0.82144892 0.80349762 0.79615505 0.79349654\n",
            " 0.79749692 0.80410526 0.80387741 0.79663609 0.79648415 0.83018404\n",
            " 0.83732411 0.83699488 0.81165033 0.80828293 0.80420651 0.81537231\n",
            " 0.81643576 0.82595568 0.82671526 0.81775229 0.81886631 0.8374507\n",
            " 0.85314861 0.85350305 0.86608662 0.85312327 0.85580713 0.85945307\n",
            " 0.84486918 0.83436171 0.82463916 0.82509486 0.82509486 0.85233835\n",
            " 0.88548116 0.87183413 0.869682   0.89715334 0.89454551 0.94591815\n",
            " 0.96093239 0.96247689 0.94994388 0.94877917 0.97713668 0.98916331\n",
            " 1.         0.88758273 0.84651493 0.82051205 0.81970191 0.84015978\n",
            " 0.82825976 0.81900579 0.8124553  0.80950093 0.80875301 0.80953038\n",
            " 0.81146783 0.81432545 0.81791115 0.82205337 0.82659471 0.83139414\n",
            " 0.8363269  0.84128624 0.84618354 0.85094827 0.8555252  0.85987502]\n",
            "17 day output [[0.86397177]]\n",
            "18 day input [0.75977131 0.74604837 0.7519477  0.74893474 0.75042854 0.754986\n",
            " 0.76412626 0.75706223 0.76463264 0.78663501 0.79704123 0.7864325\n",
            " 0.80056057 0.79739567 0.8126631  0.81653701 0.82517089 0.8169168\n",
            " 0.81896768 0.82144892 0.80349762 0.79615505 0.79349654 0.79749692\n",
            " 0.80410526 0.80387741 0.79663609 0.79648415 0.83018404 0.83732411\n",
            " 0.83699488 0.81165033 0.80828293 0.80420651 0.81537231 0.81643576\n",
            " 0.82595568 0.82671526 0.81775229 0.81886631 0.8374507  0.85314861\n",
            " 0.85350305 0.86608662 0.85312327 0.85580713 0.85945307 0.84486918\n",
            " 0.83436171 0.82463916 0.82509486 0.82509486 0.85233835 0.88548116\n",
            " 0.87183413 0.869682   0.89715334 0.89454551 0.94591815 0.96093239\n",
            " 0.96247689 0.94994388 0.94877917 0.97713668 0.98916331 1.\n",
            " 0.88758273 0.84651493 0.82051205 0.81970191 0.84015978 0.82825976\n",
            " 0.81900579 0.8124553  0.80950093 0.80875301 0.80953038 0.81146783\n",
            " 0.81432545 0.81791115 0.82205337 0.82659471 0.83139414 0.8363269\n",
            " 0.84128624 0.84618354 0.85094827 0.8555252  0.85987502 0.86397177]\n",
            "18 day output [[0.86780065]]\n",
            "19 day input [0.74604837 0.7519477  0.74893474 0.75042854 0.754986   0.76412626\n",
            " 0.75706223 0.76463264 0.78663501 0.79704123 0.7864325  0.80056057\n",
            " 0.79739567 0.8126631  0.81653701 0.82517089 0.8169168  0.81896768\n",
            " 0.82144892 0.80349762 0.79615505 0.79349654 0.79749692 0.80410526\n",
            " 0.80387741 0.79663609 0.79648415 0.83018404 0.83732411 0.83699488\n",
            " 0.81165033 0.80828293 0.80420651 0.81537231 0.81643576 0.82595568\n",
            " 0.82671526 0.81775229 0.81886631 0.8374507  0.85314861 0.85350305\n",
            " 0.86608662 0.85312327 0.85580713 0.85945307 0.84486918 0.83436171\n",
            " 0.82463916 0.82509486 0.82509486 0.85233835 0.88548116 0.87183413\n",
            " 0.869682   0.89715334 0.89454551 0.94591815 0.96093239 0.96247689\n",
            " 0.94994388 0.94877917 0.97713668 0.98916331 1.         0.88758273\n",
            " 0.84651493 0.82051205 0.81970191 0.84015978 0.82825976 0.81900579\n",
            " 0.8124553  0.80950093 0.80875301 0.80953038 0.81146783 0.81432545\n",
            " 0.81791115 0.82205337 0.82659471 0.83139414 0.8363269  0.84128624\n",
            " 0.84618354 0.85094827 0.8555252  0.85987502 0.86397177 0.86780065]\n",
            "19 day output [[0.87135756]]\n",
            "20 day input [0.7519477  0.74893474 0.75042854 0.754986   0.76412626 0.75706223\n",
            " 0.76463264 0.78663501 0.79704123 0.7864325  0.80056057 0.79739567\n",
            " 0.8126631  0.81653701 0.82517089 0.8169168  0.81896768 0.82144892\n",
            " 0.80349762 0.79615505 0.79349654 0.79749692 0.80410526 0.80387741\n",
            " 0.79663609 0.79648415 0.83018404 0.83732411 0.83699488 0.81165033\n",
            " 0.80828293 0.80420651 0.81537231 0.81643576 0.82595568 0.82671526\n",
            " 0.81775229 0.81886631 0.8374507  0.85314861 0.85350305 0.86608662\n",
            " 0.85312327 0.85580713 0.85945307 0.84486918 0.83436171 0.82463916\n",
            " 0.82509486 0.82509486 0.85233835 0.88548116 0.87183413 0.869682\n",
            " 0.89715334 0.89454551 0.94591815 0.96093239 0.96247689 0.94994388\n",
            " 0.94877917 0.97713668 0.98916331 1.         0.88758273 0.84651493\n",
            " 0.82051205 0.81970191 0.84015978 0.82825976 0.81900579 0.8124553\n",
            " 0.80950093 0.80875301 0.80953038 0.81146783 0.81432545 0.81791115\n",
            " 0.82205337 0.82659471 0.83139414 0.8363269  0.84128624 0.84618354\n",
            " 0.85094827 0.8555252  0.85987502 0.86397177 0.86780065 0.87135756]\n",
            "20 day output [[0.8746458]]\n",
            "21 day input [0.74893474 0.75042854 0.754986   0.76412626 0.75706223 0.76463264\n",
            " 0.78663501 0.79704123 0.7864325  0.80056057 0.79739567 0.8126631\n",
            " 0.81653701 0.82517089 0.8169168  0.81896768 0.82144892 0.80349762\n",
            " 0.79615505 0.79349654 0.79749692 0.80410526 0.80387741 0.79663609\n",
            " 0.79648415 0.83018404 0.83732411 0.83699488 0.81165033 0.80828293\n",
            " 0.80420651 0.81537231 0.81643576 0.82595568 0.82671526 0.81775229\n",
            " 0.81886631 0.8374507  0.85314861 0.85350305 0.86608662 0.85312327\n",
            " 0.85580713 0.85945307 0.84486918 0.83436171 0.82463916 0.82509486\n",
            " 0.82509486 0.85233835 0.88548116 0.87183413 0.869682   0.89715334\n",
            " 0.89454551 0.94591815 0.96093239 0.96247689 0.94994388 0.94877917\n",
            " 0.97713668 0.98916331 1.         0.88758273 0.84651493 0.82051205\n",
            " 0.81970191 0.84015978 0.82825976 0.81900579 0.8124553  0.80950093\n",
            " 0.80875301 0.80953038 0.81146783 0.81432545 0.81791115 0.82205337\n",
            " 0.82659471 0.83139414 0.8363269  0.84128624 0.84618354 0.85094827\n",
            " 0.8555252  0.85987502 0.86397177 0.86780065 0.87135756 0.87464583]\n",
            "21 day output [[0.8776757]]\n",
            "22 day input [0.75042854 0.754986   0.76412626 0.75706223 0.76463264 0.78663501\n",
            " 0.79704123 0.7864325  0.80056057 0.79739567 0.8126631  0.81653701\n",
            " 0.82517089 0.8169168  0.81896768 0.82144892 0.80349762 0.79615505\n",
            " 0.79349654 0.79749692 0.80410526 0.80387741 0.79663609 0.79648415\n",
            " 0.83018404 0.83732411 0.83699488 0.81165033 0.80828293 0.80420651\n",
            " 0.81537231 0.81643576 0.82595568 0.82671526 0.81775229 0.81886631\n",
            " 0.8374507  0.85314861 0.85350305 0.86608662 0.85312327 0.85580713\n",
            " 0.85945307 0.84486918 0.83436171 0.82463916 0.82509486 0.82509486\n",
            " 0.85233835 0.88548116 0.87183413 0.869682   0.89715334 0.89454551\n",
            " 0.94591815 0.96093239 0.96247689 0.94994388 0.94877917 0.97713668\n",
            " 0.98916331 1.         0.88758273 0.84651493 0.82051205 0.81970191\n",
            " 0.84015978 0.82825976 0.81900579 0.8124553  0.80950093 0.80875301\n",
            " 0.80953038 0.81146783 0.81432545 0.81791115 0.82205337 0.82659471\n",
            " 0.83139414 0.8363269  0.84128624 0.84618354 0.85094827 0.8555252\n",
            " 0.85987502 0.86397177 0.86780065 0.87135756 0.87464583 0.87767571]\n",
            "22 day output [[0.8804616]]\n",
            "23 day input [0.754986   0.76412626 0.75706223 0.76463264 0.78663501 0.79704123\n",
            " 0.7864325  0.80056057 0.79739567 0.8126631  0.81653701 0.82517089\n",
            " 0.8169168  0.81896768 0.82144892 0.80349762 0.79615505 0.79349654\n",
            " 0.79749692 0.80410526 0.80387741 0.79663609 0.79648415 0.83018404\n",
            " 0.83732411 0.83699488 0.81165033 0.80828293 0.80420651 0.81537231\n",
            " 0.81643576 0.82595568 0.82671526 0.81775229 0.81886631 0.8374507\n",
            " 0.85314861 0.85350305 0.86608662 0.85312327 0.85580713 0.85945307\n",
            " 0.84486918 0.83436171 0.82463916 0.82509486 0.82509486 0.85233835\n",
            " 0.88548116 0.87183413 0.869682   0.89715334 0.89454551 0.94591815\n",
            " 0.96093239 0.96247689 0.94994388 0.94877917 0.97713668 0.98916331\n",
            " 1.         0.88758273 0.84651493 0.82051205 0.81970191 0.84015978\n",
            " 0.82825976 0.81900579 0.8124553  0.80950093 0.80875301 0.80953038\n",
            " 0.81146783 0.81432545 0.81791115 0.82205337 0.82659471 0.83139414\n",
            " 0.8363269  0.84128624 0.84618354 0.85094827 0.8555252  0.85987502\n",
            " 0.86397177 0.86780065 0.87135756 0.87464583 0.87767571 0.88046157]\n",
            "23 day output [[0.88302195]]\n",
            "24 day input [0.76412626 0.75706223 0.76463264 0.78663501 0.79704123 0.7864325\n",
            " 0.80056057 0.79739567 0.8126631  0.81653701 0.82517089 0.8169168\n",
            " 0.81896768 0.82144892 0.80349762 0.79615505 0.79349654 0.79749692\n",
            " 0.80410526 0.80387741 0.79663609 0.79648415 0.83018404 0.83732411\n",
            " 0.83699488 0.81165033 0.80828293 0.80420651 0.81537231 0.81643576\n",
            " 0.82595568 0.82671526 0.81775229 0.81886631 0.8374507  0.85314861\n",
            " 0.85350305 0.86608662 0.85312327 0.85580713 0.85945307 0.84486918\n",
            " 0.83436171 0.82463916 0.82509486 0.82509486 0.85233835 0.88548116\n",
            " 0.87183413 0.869682   0.89715334 0.89454551 0.94591815 0.96093239\n",
            " 0.96247689 0.94994388 0.94877917 0.97713668 0.98916331 1.\n",
            " 0.88758273 0.84651493 0.82051205 0.81970191 0.84015978 0.82825976\n",
            " 0.81900579 0.8124553  0.80950093 0.80875301 0.80953038 0.81146783\n",
            " 0.81432545 0.81791115 0.82205337 0.82659471 0.83139414 0.8363269\n",
            " 0.84128624 0.84618354 0.85094827 0.8555252  0.85987502 0.86397177\n",
            " 0.86780065 0.87135756 0.87464583 0.87767571 0.88046157 0.88302195]\n",
            "24 day output [[0.8853765]]\n",
            "25 day input [0.75706223 0.76463264 0.78663501 0.79704123 0.7864325  0.80056057\n",
            " 0.79739567 0.8126631  0.81653701 0.82517089 0.8169168  0.81896768\n",
            " 0.82144892 0.80349762 0.79615505 0.79349654 0.79749692 0.80410526\n",
            " 0.80387741 0.79663609 0.79648415 0.83018404 0.83732411 0.83699488\n",
            " 0.81165033 0.80828293 0.80420651 0.81537231 0.81643576 0.82595568\n",
            " 0.82671526 0.81775229 0.81886631 0.8374507  0.85314861 0.85350305\n",
            " 0.86608662 0.85312327 0.85580713 0.85945307 0.84486918 0.83436171\n",
            " 0.82463916 0.82509486 0.82509486 0.85233835 0.88548116 0.87183413\n",
            " 0.869682   0.89715334 0.89454551 0.94591815 0.96093239 0.96247689\n",
            " 0.94994388 0.94877917 0.97713668 0.98916331 1.         0.88758273\n",
            " 0.84651493 0.82051205 0.81970191 0.84015978 0.82825976 0.81900579\n",
            " 0.8124553  0.80950093 0.80875301 0.80953038 0.81146783 0.81432545\n",
            " 0.81791115 0.82205337 0.82659471 0.83139414 0.8363269  0.84128624\n",
            " 0.84618354 0.85094827 0.8555252  0.85987502 0.86397177 0.86780065\n",
            " 0.87135756 0.87464583 0.87767571 0.88046157 0.88302195 0.88537651]\n",
            "25 day output [[0.88754666]]\n",
            "26 day input [0.76463264 0.78663501 0.79704123 0.7864325  0.80056057 0.79739567\n",
            " 0.8126631  0.81653701 0.82517089 0.8169168  0.81896768 0.82144892\n",
            " 0.80349762 0.79615505 0.79349654 0.79749692 0.80410526 0.80387741\n",
            " 0.79663609 0.79648415 0.83018404 0.83732411 0.83699488 0.81165033\n",
            " 0.80828293 0.80420651 0.81537231 0.81643576 0.82595568 0.82671526\n",
            " 0.81775229 0.81886631 0.8374507  0.85314861 0.85350305 0.86608662\n",
            " 0.85312327 0.85580713 0.85945307 0.84486918 0.83436171 0.82463916\n",
            " 0.82509486 0.82509486 0.85233835 0.88548116 0.87183413 0.869682\n",
            " 0.89715334 0.89454551 0.94591815 0.96093239 0.96247689 0.94994388\n",
            " 0.94877917 0.97713668 0.98916331 1.         0.88758273 0.84651493\n",
            " 0.82051205 0.81970191 0.84015978 0.82825976 0.81900579 0.8124553\n",
            " 0.80950093 0.80875301 0.80953038 0.81146783 0.81432545 0.81791115\n",
            " 0.82205337 0.82659471 0.83139414 0.8363269  0.84128624 0.84618354\n",
            " 0.85094827 0.8555252  0.85987502 0.86397177 0.86780065 0.87135756\n",
            " 0.87464583 0.87767571 0.88046157 0.88302195 0.88537651 0.88754666]\n",
            "26 day output [[0.889553]]\n",
            "27 day input [0.78663501 0.79704123 0.7864325  0.80056057 0.79739567 0.8126631\n",
            " 0.81653701 0.82517089 0.8169168  0.81896768 0.82144892 0.80349762\n",
            " 0.79615505 0.79349654 0.79749692 0.80410526 0.80387741 0.79663609\n",
            " 0.79648415 0.83018404 0.83732411 0.83699488 0.81165033 0.80828293\n",
            " 0.80420651 0.81537231 0.81643576 0.82595568 0.82671526 0.81775229\n",
            " 0.81886631 0.8374507  0.85314861 0.85350305 0.86608662 0.85312327\n",
            " 0.85580713 0.85945307 0.84486918 0.83436171 0.82463916 0.82509486\n",
            " 0.82509486 0.85233835 0.88548116 0.87183413 0.869682   0.89715334\n",
            " 0.89454551 0.94591815 0.96093239 0.96247689 0.94994388 0.94877917\n",
            " 0.97713668 0.98916331 1.         0.88758273 0.84651493 0.82051205\n",
            " 0.81970191 0.84015978 0.82825976 0.81900579 0.8124553  0.80950093\n",
            " 0.80875301 0.80953038 0.81146783 0.81432545 0.81791115 0.82205337\n",
            " 0.82659471 0.83139414 0.8363269  0.84128624 0.84618354 0.85094827\n",
            " 0.8555252  0.85987502 0.86397177 0.86780065 0.87135756 0.87464583\n",
            " 0.87767571 0.88046157 0.88302195 0.88537651 0.88754666 0.88955301]\n",
            "27 day output [[0.89141643]]\n",
            "28 day input [0.79704123 0.7864325  0.80056057 0.79739567 0.8126631  0.81653701\n",
            " 0.82517089 0.8169168  0.81896768 0.82144892 0.80349762 0.79615505\n",
            " 0.79349654 0.79749692 0.80410526 0.80387741 0.79663609 0.79648415\n",
            " 0.83018404 0.83732411 0.83699488 0.81165033 0.80828293 0.80420651\n",
            " 0.81537231 0.81643576 0.82595568 0.82671526 0.81775229 0.81886631\n",
            " 0.8374507  0.85314861 0.85350305 0.86608662 0.85312327 0.85580713\n",
            " 0.85945307 0.84486918 0.83436171 0.82463916 0.82509486 0.82509486\n",
            " 0.85233835 0.88548116 0.87183413 0.869682   0.89715334 0.89454551\n",
            " 0.94591815 0.96093239 0.96247689 0.94994388 0.94877917 0.97713668\n",
            " 0.98916331 1.         0.88758273 0.84651493 0.82051205 0.81970191\n",
            " 0.84015978 0.82825976 0.81900579 0.8124553  0.80950093 0.80875301\n",
            " 0.80953038 0.81146783 0.81432545 0.81791115 0.82205337 0.82659471\n",
            " 0.83139414 0.8363269  0.84128624 0.84618354 0.85094827 0.8555252\n",
            " 0.85987502 0.86397177 0.86780065 0.87135756 0.87464583 0.87767571\n",
            " 0.88046157 0.88302195 0.88537651 0.88754666 0.88955301 0.89141643]\n",
            "28 day output [[0.89315593]]\n",
            "29 day input [0.7864325  0.80056057 0.79739567 0.8126631  0.81653701 0.82517089\n",
            " 0.8169168  0.81896768 0.82144892 0.80349762 0.79615505 0.79349654\n",
            " 0.79749692 0.80410526 0.80387741 0.79663609 0.79648415 0.83018404\n",
            " 0.83732411 0.83699488 0.81165033 0.80828293 0.80420651 0.81537231\n",
            " 0.81643576 0.82595568 0.82671526 0.81775229 0.81886631 0.8374507\n",
            " 0.85314861 0.85350305 0.86608662 0.85312327 0.85580713 0.85945307\n",
            " 0.84486918 0.83436171 0.82463916 0.82509486 0.82509486 0.85233835\n",
            " 0.88548116 0.87183413 0.869682   0.89715334 0.89454551 0.94591815\n",
            " 0.96093239 0.96247689 0.94994388 0.94877917 0.97713668 0.98916331\n",
            " 1.         0.88758273 0.84651493 0.82051205 0.81970191 0.84015978\n",
            " 0.82825976 0.81900579 0.8124553  0.80950093 0.80875301 0.80953038\n",
            " 0.81146783 0.81432545 0.81791115 0.82205337 0.82659471 0.83139414\n",
            " 0.8363269  0.84128624 0.84618354 0.85094827 0.8555252  0.85987502\n",
            " 0.86397177 0.86780065 0.87135756 0.87464583 0.87767571 0.88046157\n",
            " 0.88302195 0.88537651 0.88754666 0.88955301 0.89141643 0.89315593]\n",
            "29 day output [[0.89478904]]\n",
            "[[0.8190057873725891], [0.8124552965164185], [0.8095009326934814], [0.8087530136108398], [0.8095303773880005], [0.8114678263664246], [0.8143254518508911], [0.8179111480712891], [0.8220533728599548], [0.8265947103500366], [0.8313941359519958], [0.8363268971443176], [0.8412862420082092], [0.8461835384368896], [0.8509482741355896], [0.8555251955986023], [0.8598750233650208], [0.8639717698097229], [0.8678006529808044], [0.8713575601577759], [0.8746458292007446], [0.8776757121086121], [0.880461573600769], [0.8830219507217407], [0.885376513004303], [0.8875466585159302], [0.8895530104637146], [0.8914164304733276], [0.8931559324264526], [0.8947890400886536]]\n"
          ]
        }
      ]
    },
    {
      "cell_type": "code",
      "source": [
        "len(lst_output)"
      ],
      "metadata": {
        "colab": {
          "base_uri": "https://localhost:8080/"
        },
        "id": "pc8ldW6cMXIm",
        "outputId": "5111b1d9-dea1-4ef1-96b1-45f8a2875608"
      },
      "execution_count": 43,
      "outputs": [
        {
          "output_type": "execute_result",
          "data": {
            "text/plain": [
              "30"
            ]
          },
          "metadata": {},
          "execution_count": 43
        }
      ]
    },
    {
      "cell_type": "code",
      "source": [
        "day_new=np.arange(1,91)\n",
        "day_pred=np.arange(91,121)"
      ],
      "metadata": {
        "id": "1Jf2YlLyOvA5"
      },
      "execution_count": 44,
      "outputs": []
    },
    {
      "cell_type": "code",
      "source": [
        "import matplotlib.pyplot as plt"
      ],
      "metadata": {
        "id": "yE7d-yrmPMYj"
      },
      "execution_count": 45,
      "outputs": []
    },
    {
      "cell_type": "code",
      "source": [
        "len(df)"
      ],
      "metadata": {
        "colab": {
          "base_uri": "https://localhost:8080/"
        },
        "id": "wBQgsdzRPPfv",
        "outputId": "312ec8af-1993-4293-e8dd-5a2b94284e6b"
      },
      "execution_count": 46,
      "outputs": [
        {
          "output_type": "execute_result",
          "data": {
            "text/plain": [
              "1234"
            ]
          },
          "metadata": {},
          "execution_count": 46
        }
      ]
    },
    {
      "cell_type": "code",
      "source": [
        "df3=df.tolist()\n",
        "df3.extend(lst_output)"
      ],
      "metadata": {
        "id": "X_-tglcMPQWf"
      },
      "execution_count": 47,
      "outputs": []
    },
    {
      "cell_type": "code",
      "source": [
        "plt.plot(day_new,df[1144:])\n",
        "plt.plot(day_pred,scaler.inverse_transform(lst_output))"
      ],
      "metadata": {
        "colab": {
          "base_uri": "https://localhost:8080/",
          "height": 308
        },
        "id": "ZQ_KHzLaPhQT",
        "outputId": "fdab7824-800d-4095-e097-51c0825f1dbc"
      },
      "execution_count": 48,
      "outputs": [
        {
          "output_type": "execute_result",
          "data": {
            "text/plain": [
              "[<matplotlib.lines.Line2D at 0x7d14807960b0>]"
            ]
          },
          "metadata": {},
          "execution_count": 48
        },
        {
          "output_type": "display_data",
          "data": {
            "text/plain": [
              "<Figure size 700x300 with 1 Axes>"
            ],
            "image/png": "[encoded data removed]"
          },
          "metadata": {}
        }
      ]
    },
    {
      "cell_type": "code",
      "source": [
        "#1st pred (epoch =50)\n",
        "#np.array(scaler.inverse_transform(lst_output)).reshape(1,-1)\n",
        "# array([[2575.52809143, 2531.22587823, 2493.04781077, 2460.85546634,\n",
        "#         2433.61914945, 2410.07893089, 2389.09835548, 2369.81028025,\n",
        "#         2351.63229397, 2334.22446061, 2317.41751836, 2301.15367339,\n",
        "#         2285.4310424 , 2270.27151878, 2255.69817298, 2241.72536518,\n",
        "#         2228.35321309, 2215.57112313, 2203.3588498 , 2191.6887321 ,\n",
        "#         2180.5289893 , 2169.84654591, 2159.60738479, 2149.7778419 ,\n",
        "#         2140.32601882, 2131.22131188, 2122.43488302, 2113.93907123,\n",
        "#         2105.70868735, 2097.71971928]])"
      ],
      "metadata": {
        "id": "CzRNWhgCP29q"
      },
      "execution_count": 51,
      "outputs": []
    },
    {
      "cell_type": "code",
      "source": [
        "#2nd pred (epoch = 90)\n",
        "# np.array(scaler.inverse_transform(lst_output)).reshape(1,-1)\n",
        "# array([[2484.42534691, 2471.4895324 , 2465.6552975 , 2464.17831772,\n",
        "#         2465.71344445, 2469.53949065, 2475.18268808, 2482.26366907,\n",
        "#         2490.44367461, 2499.41184214, 2508.88967833, 2518.63082372,\n",
        "#         2528.42446616, 2538.09557625, 2547.50490732, 2556.54334556,\n",
        "#         2565.13332246, 2573.22351803, 2580.78474108, 2587.80886988,\n",
        "#         2594.30249598, 2600.28586488, 2605.78734383, 2610.8435395 ,\n",
        "#         2615.493295  , 2619.77886694, 2623.74098172, 2627.42083658,\n",
        "#         2630.85597985, 2634.08101722]])"
      ],
      "metadata": {
        "id": "eqcQpRtLQBEJ"
      },
      "execution_count": 52,
      "outputs": []
    },
    {
      "cell_type": "code",
      "source": [],
      "metadata": {
        "id": "nN1KHcxqSH6y"
      },
      "execution_count": 50,
      "outputs": []
    }
  ],
  "metadata": {
    "colab": {
      "provenance": []
    },
    "kernelspec": {
      "display_name": "Python 3",
      "name": "python3"
    },
    "language_info": {
      "name": "python"
    }
  },
  "nbformat": 4,
  "nbformat_minor": 0
}